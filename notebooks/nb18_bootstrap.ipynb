{
 "cells": [
  {
   "cell_type": "markdown",
   "metadata": {},
   "source": [
    "# Lecture 18: The Bootstrap \n",
    "***\n",
    "\n",
    "We'll need Numpy, Matplotlib, Pandas, and scipy.stats for this notebook, so let's load them. "
   ]
  },
  {
   "cell_type": "code",
   "execution_count": 4,
   "metadata": {},
   "outputs": [],
   "source": [
    "import numpy as np \n",
    "from scipy import stats\n",
    "import pandas as pd \n",
    "import matplotlib.pyplot as plt \n",
    "%matplotlib inline"
   ]
  },
  {
   "cell_type": "markdown",
   "metadata": {},
   "source": [
    "### Exercise 1 - Bootstrapped Confidence Intervals for the Mean \n",
    "*** \n",
    "\n",
    "In this exercise you will experiment with empirical bootstrap techniques to compute confidence intervals the mean of the exponential distribution with parameter $\\lambda = 5$.  \n",
    "\n",
    "**Part A**: Write down the expected value, variance, and standard deviation of $X \\sim Exp(5)$.  You can look them up on [Wiki](https://en.wikipedia.org/wiki/Exponential_distribution) if you need to. "
   ]
  },
  {
   "cell_type": "code",
   "execution_count": 1,
   "metadata": {},
   "outputs": [],
   "source": [
    "th_mean = 1/5\n",
    "th_std = 1/5\n",
    "th_var = 5**-2"
   ]
  },
  {
   "cell_type": "markdown",
   "metadata": {},
   "source": [
    "**Part B**: The variable $\\texttt{sample}$ below consists of $500$ samples from $Exp(5)$.  Complete the function bootstrapped_mean below, to draw at least $5000$ bootstrapped resamples (with replacement) from the empirical distribution defined by $\\texttt{sample}$ and compute a bootstrapped confidence interval for the mean at the 95% confidence level.  "
   ]
  },
  {
   "cell_type": "code",
   "execution_count": 5,
   "metadata": {},
   "outputs": [],
   "source": [
    "sample = np.random.exponential(1/5, size=500)\n",
    "# n = 500"
   ]
  },
  {
   "cell_type": "code",
   "execution_count": 7,
   "metadata": {},
   "outputs": [],
   "source": [
    "np.random.choice(sample,size=(500,5000))"
   ]
  },
  {
   "cell_type": "code",
   "execution_count": 30,
   "metadata": {},
   "outputs": [
    {
     "data": {
      "text/plain": [
       "array([0.18551043, 0.22276275])"
      ]
     },
     "execution_count": 30,
     "metadata": {},
     "output_type": "execute_result"
    }
   ],
   "source": [
    "# num_boots is M from the lecture slides\n",
    "def bootstrapped_mean(sample, num_boots=5000, alpha=0.05):\n",
    "    # Create M resamples with replacement\n",
    "    n = len(sample)\n",
    "    resamples = np.random.choice(sample,size=(num_boots,n))\n",
    "    # For Each compute the quantity of interest\n",
    "    means = np.mean(resamples,axis=1)\n",
    "    # Find the alpha/2 and 1-alpha/2 percentiles of this distribution\n",
    "    lower = np.percentile(means,100*alpha/2,axis=0)\n",
    "    upper = np.percentile(means,100*(1-alpha/2),axis=0)\n",
    "    # That's the CI    \n",
    "    CI = np.array([lower,upper]) # This is terrible! Your code should replace this with a real calculation.\n",
    "\n",
    "    return CI \n",
    "    \n",
    "bootstrapped_mean(sample)"
   ]
  },
  {
   "cell_type": "markdown",
   "metadata": {},
   "source": [
    "**Part C**: Use the sample mean of $\\texttt{sample}$ and the known standard deviation of the distribution to compute a traditional 95% confidence interval for the mean of the distribution.  Compare your traditional confidence interval to the bootstrapped confidence interval returned by your code. "
   ]
  },
  {
   "cell_type": "code",
   "execution_count": 31,
   "metadata": {},
   "outputs": [
    {
     "name": "stdout",
     "output_type": "stream",
     "text": [
      "[0.18579452 0.22257285]\n"
     ]
    }
   ],
   "source": [
    "# CI by CLT for mean\n",
    "# xbar +- z_alpha_over_2 * std/sqrt(n)\n",
    "xbar = np.mean(sample)\n",
    "s = np.std(sample,ddof=1)\n",
    "pm = stats.norm.ppf(1-0.05/2)*s/np.sqrt(len(sample))\n",
    "\n",
    "print(np.array([xbar-pm,xbar+pm]))"
   ]
  },
  {
   "cell_type": "markdown",
   "metadata": {},
   "source": [
    "**Part D**: Modify the code you wrote in **Part B** to also plot a histogram of the boostrapped sample means along with some graphical representation of the calculated confidence interval. "
   ]
  },
  {
   "cell_type": "code",
   "execution_count": 45,
   "metadata": {},
   "outputs": [
    {
     "data": {
      "text/plain": [
       "array([0.18631669, 0.22250027])"
      ]
     },
     "execution_count": 45,
     "metadata": {},
     "output_type": "execute_result"
    },
    {
     "data": {
      "image/png": "[encoded data removed]",
      "text/plain": [
       "<Figure size 864x432 with 1 Axes>"
      ]
     },
     "metadata": {},
     "output_type": "display_data"
    }
   ],
   "source": [
    "# num_boots is M from the lecture slides\n",
    "def bootstrapped_mean(sample, num_boots=5000, alpha=0.05):\n",
    "    # Create M resamples with replacement\n",
    "    n = len(sample)\n",
    "    resamples = np.random.choice(sample,size=(num_boots,n))\n",
    "    # For Each compute the quantity of interest\n",
    "    means = np.mean(resamples,axis=1)\n",
    "    # Find the alpha/2 and 1-alpha/2 percentiles of this distribution\n",
    "    lower = np.percentile(means,100*alpha/2,axis=0)\n",
    "    upper = np.percentile(means,100*(1-alpha/2),axis=0)\n",
    "    # That's the CI    \n",
    "    CI = np.array([lower,upper]) # This is terrible! Your code should replace this with a real calculation.\n",
    "    \n",
    "    # Create a plot\n",
    "    fig,ax = plt.subplots(1,1,figsize=(12,6))\n",
    "    ax.set_facecolor('xkcd:charcoal')\n",
    "    plt.hist(means,density=False,bins=30,color='black',edgecolor='gold')\n",
    "    plt.grid(alpha=0.5)\n",
    "    plt.plot(CI,150*np.ones(2),'o-',color='xkcd:crimson',linewidth=5,markersize=10)\n",
    "    \n",
    "    return CI \n",
    "    \n",
    "bootstrapped_mean(sample)"
   ]
  },
  {
   "cell_type": "markdown",
   "metadata": {},
   "source": [
    "### Exercise 2 - Bootstrapped Confidence Intervals for the Variance\n",
    "*** \n",
    "\n",
    "In this exercise you will experiment with empirical bootstrap techniques to compute confidence intervals for various statistics of the variance of the exponential distribution with parameter $\\lambda = 5$.  \n",
    "\n",
    "**Part A**: Complete the function bootstrapped_var below, to draw at least $5000$ bootstrapped samples (with replacement) from the empirical distribution defined by $\\texttt{sample}$ and compute a bootstrapped confidence interval for the variance at the 95% confidence level.  You should be able to copy paste your code from Exercise 1. Use your function to find the 95% bootstrapped CI for the data stored in $\\texttt{sample}$ from Exercise 1. "
   ]
  },
  {
   "cell_type": "code",
   "execution_count": 7,
   "metadata": {},
   "outputs": [
    {
     "name": "stdout",
     "output_type": "stream",
     "text": [
      "[0.02703816 0.04077766]\n",
      "0.03351498714981917\n"
     ]
    },
    {
     "data": {
      "image/png": "[encoded data removed]",
      "text/plain": [
       "<Figure size 864x432 with 1 Axes>"
      ]
     },
     "metadata": {},
     "output_type": "display_data"
    }
   ],
   "source": [
    "# num_boots is M from the lecture slides\n",
    "def bootstrapped_var(sample, num_boots=5000, alpha=0.05):\n",
    "    # Create M resamples with replacement\n",
    "    n = len(sample)\n",
    "    resamples = np.random.choice(sample,size=(num_boots,n))\n",
    "    # For Each compute the quantity of interest\n",
    "    v = np.var(resamples,axis=1)\n",
    "    # Find the alpha/2 and 1-alpha/2 percentiles of this distribution\n",
    "    lower = np.percentile(v,100*alpha/2,axis=0)\n",
    "    upper = np.percentile(v,100*(1-alpha/2),axis=0)\n",
    "    # That's the CI    \n",
    "    CI = np.array([lower,upper]) # This is terrible! Your code should replace this with a real calculation.\n",
    "    \n",
    "    # Create a plot\n",
    "    fig,ax = plt.subplots(1,1,figsize=(12,6))\n",
    "    ax.set_facecolor('xkcd:charcoal')\n",
    "    plt.hist(v,density=False,bins=30,color='black',edgecolor='gold')\n",
    "    plt.grid(alpha=0.5)\n",
    "    plt.plot(CI,150*np.ones(2),'o-',color='xkcd:crimson',linewidth=5,markersize=10)\n",
    "\n",
    "    return CI \n",
    "    \n",
    "print(bootstrapped_var(sample))\n",
    "print(np.var(sample))"
   ]
  },
  {
   "cell_type": "markdown",
   "metadata": {},
   "source": [
    "**Part B**: Does your 95% bootstrapped confidence interval cover the true variance of the population? "
   ]
  },
  {
   "cell_type": "code",
   "execution_count": 49,
   "metadata": {},
   "outputs": [
    {
     "name": "stdout",
     "output_type": "stream",
     "text": [
      "0.04\n"
     ]
    }
   ],
   "source": [
    "print(1/25)"
   ]
  },
  {
   "cell_type": "markdown",
   "metadata": {},
   "source": [
    "### Exercise 3 - Empirical Coverage of Bootstrapped Confidence Intervals  \n",
    "*** \n",
    "\n",
    "Complete the function CI_test below to test the coverage of the bootstrapped confidence intervals at the 95% confidence level for the mean of the population that $\\texttt{sample}$ is drawn from.  Recall that you know that the true sample mean is $1/\\lambda = 0.2$.  "
   ]
  },
  {
   "cell_type": "code",
   "execution_count": null,
   "metadata": {
    "collapsed": true
   },
   "outputs": [],
   "source": [
    "def CI_test(sample, num_CIs=100, num_boots=5000):\n",
    "    return 1.0 # TODO, this is just a fill-value"
   ]
  },
  {
   "cell_type": "markdown",
   "metadata": {},
   "source": [
    "### Exercise 4 - Parametric Bootstrap for the Exponential Parameter \n",
    "*** \n",
    "\n",
    "In this exercise you will experiment with the parametric bootstrap technique to compute confidence intervals for various statistics of the exponential distribution with parameter $\\lambda = 5$.  \n",
    "\n",
    "**Part A**: Complete the function bootstrapped_lam below, to draw at least $5000$ bootstrapped resamples (with replacement) from the empirical distribution defined by $\\texttt{sample}$ and compute a bootstrapped confidence interval for the exponential parameter $\\lambda$.  Recall from class that a good estimator for $\\lambda$ is $1/x$ where $x$ is assumed to come from $Exp(\\lambda)$. "
   ]
  },
  {
   "cell_type": "code",
   "execution_count": null,
   "metadata": {
    "collapsed": true
   },
   "outputs": [],
   "source": []
  },
  {
   "cell_type": "markdown",
   "metadata": {},
   "source": [
    "**Part B**: Complete the function parametric_stdev below, to draw at least $5000$ bootstrapped resamples (with replacement) from the empirical distribution defined by $\\texttt{sample}$.  From each bootstrapped resample, estimate the exponential parameter $\\lambda$, then transform the estimate of $\\lambda$ to the variance of the exponential distribution.  With your bootstrapped estimates of $\\sigma$, compute a 95% confidence interval for the variance.  How does this confidence interval compared to the one computed in Exercise 2? \n"
   ]
  },
  {
   "cell_type": "code",
   "execution_count": null,
   "metadata": {
    "collapsed": true
   },
   "outputs": [],
   "source": [
    "def parametric_stdev(sample, num_boots=5000):\n",
    "    return np.array([0,1]) # TODO, this is just a fill-value\n",
    "    \n",
    "parametric_stdev(sample)"
   ]
  }
 ],
 "metadata": {
  "kernelspec": {
   "display_name": "Python 3",
   "language": "python",
   "name": "python3"
  },
  "language_info": {
   "codemirror_mode": {
    "name": "ipython",
    "version": 3
   },
   "file_extension": ".py",
   "mimetype": "text/x-python",
   "name": "python",
   "nbconvert_exporter": "python",
   "pygments_lexer": "ipython3",
   "version": "3.6.5"
  }
 },
 "nbformat": 4,
 "nbformat_minor": 2
}
