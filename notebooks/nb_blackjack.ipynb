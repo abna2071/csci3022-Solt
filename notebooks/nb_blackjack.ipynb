{
 "cells": [
  {
   "cell_type": "markdown",
   "metadata": {},
   "source": [
    "# Blackjack simulation\n",
    "***\n",
    "\n",
    "We'll need Numpy and Matplotlib for this notebook, so let's load them. "
   ]
  },
  {
   "cell_type": "code",
   "execution_count": 1,
   "metadata": {},
   "outputs": [],
   "source": [
    "import numpy as np \n",
    "import matplotlib.pylab as plt \n",
    "%matplotlib inline"
   ]
  },
  {
   "cell_type": "markdown",
   "metadata": {},
   "source": [
    "## The problem\n",
    "\n",
    "Octavius O'Flaherty are playing blackjack up at an octopus-themed casino in Blackhawk, Colorado. \n",
    "\n",
    "In the simplified version of blackjack that he is playing, here are the rules:\n",
    "1. Cards are worth face values (2, 3, ... , 10), face cards (J, Q, K) are worth 10, and Aces are worth either 11 or 1.\n",
    "2. The dealer gives Octavius two cards, then herself two cards.\n",
    "3. Octavius is allowed to draw a new card repeatedly (\"hit\") to try and get a card total as close to 21 as he can without going over (\"busting\").\n",
    "4. The dealer will then do the same. The dealer must always \"hit\" if her card total is 16 or less.\n",
    "5. If Octavius goes over 21, he loses, even if the dealer also busts.\n",
    "6. If neither player busts, then whoever gets closest to 21 wins. The dealer wins draws.\n",
    "\n",
    "Octavius is facing a common challenge among blackjack players: when you have a hand of 16 or 17, do you hit or stand?\n",
    "\n",
    "## Some other details\n",
    "\n",
    "In casinos, including the one Octavius happens to be in, the dealer has many decks of cards all shuffled together. There are so many decks, in fact, that we can consider the dealer to have an infinite reservoir of cards, such that the probability of obtaining any given card in a single draw is equal to the probability of obtaining that card from a single full deck of 52 cards.\n",
    "\n",
    "Note that in blackjack, we do not care about suit.\n",
    "\n",
    "## The big question\n",
    "\n",
    "**Is Octavius more likely to win if he adopts a strategy where he stands on a 16 or higher, or if he adopts a strategy where he stands on a 17 or higher?**"
   ]
  },
  {
   "cell_type": "markdown",
   "metadata": {},
   "source": [
    "# The Plan\n",
    "- We get 2 cards\n",
    "- Dealer gets 2 cards\n",
    "- We decide to hit until we stay or bust\n",
    "- Same as above but for the dealer\n",
    "- Who won?"
   ]
  },
  {
   "cell_type": "markdown",
   "metadata": {},
   "source": [
    "# Functions that seem useful\n",
    "- Get a card.\n",
    "    - This will be a uniform draw from all possible cards. Suit doesn't matter\n",
    "- Decide if we hit\n",
    "    - This will be based on our hand\n",
    "    - Inputs\n",
    "        - Cards you have\n",
    "        - Value of your cutoff\n",
    "    - Outputs\n",
    "        - Hit or Stand (Boolean)\n",
    "- Win Condition\n",
    "    - Inputs\n",
    "        - Player hand\n",
    "        - Dealer hand\n",
    "    - Outputs\n",
    "        - Win or not (Boolean)"
   ]
  },
  {
   "cell_type": "code",
   "execution_count": 20,
   "metadata": {},
   "outputs": [
    {
     "name": "stdout",
     "output_type": "stream",
     "text": [
      "7\n"
     ]
    }
   ],
   "source": [
    "def get_a_card():\n",
    "    deck = [2,3,4,5,6,7,8,9,10,10,10,10,11]\n",
    "    card = np.random.choice(deck)\n",
    "    return card\n",
    "\n",
    "print(get_a_card())"
   ]
  },
  {
   "cell_type": "code",
   "execution_count": 3,
   "metadata": {},
   "outputs": [],
   "source": [
    "def decide_if_we_hit(my_cards,my_cutoff):\n",
    "    s = np.sum(my_cards)\n",
    "    n11 = np.sum(my_cards==11)\n",
    "    if s<my_cutoff :\n",
    "        return True\n",
    "    elif s<=21:\n",
    "        return False\n",
    "    else:\n",
    "        if (11 in my_cards):\n",
    "            my_cards[my_cards.index(11)] = 1\n",
    "            return decide_if_we_hit(my_cards,my_cutoff)\n",
    "        else:\n",
    "            return False"
   ]
  },
  {
   "cell_type": "code",
   "execution_count": 6,
   "metadata": {},
   "outputs": [],
   "source": [
    "def did_we_win(our_cards,dealer_cards):\n",
    "    our_sum = np.array(our_cards).sum()\n",
    "    dealer_sum = np.array(dealer_cards).sum()\n",
    "    if (our_sum > 21):\n",
    "        return False\n",
    "    if (dealer_sum > 21):\n",
    "        return True\n",
    "    # The if neither player busts, highest score wins, dealer wins ties\n",
    "    return our_sum>dealer_sum\n",
    "    \n"
   ]
  },
  {
   "cell_type": "code",
   "execution_count": 24,
   "metadata": {},
   "outputs": [],
   "source": [
    "def play_blackjack(isVerbose=False):\n",
    "    # Step 1 get two cards\n",
    "    us = [get_a_card() for i in range(2)]\n",
    "    if isVerbose:\n",
    "        print(f\"Us:{us}\")\n",
    "    dealer = [get_a_card() for i in range(2)]\n",
    "    if isVerbose:\n",
    "        print(f\"Dealer:{dealer}\")\n",
    "    while decide_if_we_hit(us,16):\n",
    "        us.append(get_a_card())\n",
    "    while decide_if_we_hit(dealer,17):\n",
    "        dealer.append(get_a_card())\n",
    "    if isVerbose:\n",
    "        print(f\"Us:{us}\\tDealer:{dealer}\")\n",
    "    return did_we_win(us,dealer)\n"
   ]
  },
  {
   "cell_type": "code",
   "execution_count": 39,
   "metadata": {},
   "outputs": [
    {
     "name": "stdout",
     "output_type": "stream",
     "text": [
      "Us:[8, 3]\n",
      "Dealer:[6, 10]\n",
      "Us:[8, 3, 7]\tDealer:[6, 10, 1]\n"
     ]
    },
    {
     "data": {
      "text/plain": [
       "True"
      ]
     },
     "execution_count": 39,
     "metadata": {},
     "output_type": "execute_result"
    }
   ],
   "source": [
    "play_blackjack(True)"
   ]
  }
 ],
 "metadata": {
  "kernelspec": {
   "display_name": "Python 3",
   "language": "python",
   "name": "python3"
  },
  "language_info": {
   "codemirror_mode": {
    "name": "ipython",
    "version": 3
   },
   "file_extension": ".py",
   "mimetype": "text/x-python",
   "name": "python",
   "nbconvert_exporter": "python",
   "pygments_lexer": "ipython3",
   "version": "3.6.5"
  }
 },
 "nbformat": 4,
 "nbformat_minor": 2
}
