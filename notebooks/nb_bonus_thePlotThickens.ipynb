{
 "cells": [
  {
   "cell_type": "markdown",
   "metadata": {},
   "source": [
    "# The Plot Thickens\n",
    "\n",
    "Or: how to make plots in Python."
   ]
  },
  {
   "cell_type": "markdown",
   "metadata": {},
   "source": [
    "### Imports\n",
    "Let's start by importing our friends for data handling:\n",
    "`numpy` and `pandas`"
   ]
  },
  {
   "cell_type": "code",
   "execution_count": 1,
   "metadata": {},
   "outputs": [],
   "source": [
    "import numpy as np\n",
    "import pandas as pd"
   ]
  },
  {
   "cell_type": "markdown",
   "metadata": {},
   "source": [
    "Let's also import `matplotlib` and use the `%` operator to ask Jupyter notebooks to place our plots \"inline\" so that we can just see them in the notebook."
   ]
  },
  {
   "cell_type": "code",
   "execution_count": 2,
   "metadata": {},
   "outputs": [],
   "source": [
    "import matplotlib.pylab as plt\n",
    "%matplotlib inline"
   ]
  },
  {
   "cell_type": "markdown",
   "metadata": {},
   "source": [
    "Notice above that we have aliased matplotlib.pylab as `plt` meaning that when we want to create a plot, we're going to be using `plt` to do so!  Great!"
   ]
  },
  {
   "cell_type": "markdown",
   "metadata": {},
   "source": [
    "# Basics\n",
    "\n",
    "### Axes\n",
    "\n",
    "Try running the code below. What does it do? What happens if you change the 4 numbers? "
   ]
  },
  {
   "cell_type": "code",
   "execution_count": null,
   "metadata": {},
   "outputs": [],
   "source": [
    "fig,ax = plt.subplots(1,1,figsize=(6,4))"
   ]
  },
  {
   "cell_type": "markdown",
   "metadata": {},
   "source": [
    "### Lines\n",
    "\n",
    "Let's learn how to plot points that are connected with a line. First, we'll contrive some data:"
   ]
  },
  {
   "cell_type": "code",
   "execution_count": 1,
   "metadata": {},
   "outputs": [
    {
     "ename": "NameError",
     "evalue": "name 'np' is not defined",
     "output_type": "error",
     "traceback": [
      "\u001b[1;31m---------------------------------------------------------------------------\u001b[0m",
      "\u001b[1;31mNameError\u001b[0m                                 Traceback (most recent call last)",
      "\u001b[1;32m<ipython-input-1-7efa1b002fe9>\u001b[0m in \u001b[0;36m<module>\u001b[1;34m()\u001b[0m\n\u001b[1;32m----> 1\u001b[1;33m \u001b[0mx\u001b[0m \u001b[1;33m=\u001b[0m \u001b[0mnp\u001b[0m\u001b[1;33m.\u001b[0m\u001b[0marange\u001b[0m\u001b[1;33m(\u001b[0m\u001b[1;36m0\u001b[0m\u001b[1;33m,\u001b[0m\u001b[1;36m20\u001b[0m\u001b[1;33m)\u001b[0m\u001b[1;33m\u001b[0m\u001b[0m\n\u001b[0m\u001b[0;32m      2\u001b[0m \u001b[0my\u001b[0m \u001b[1;33m=\u001b[0m \u001b[1;36m0.1\u001b[0m\u001b[1;33m*\u001b[0m\u001b[0mx\u001b[0m \u001b[1;33m+\u001b[0m \u001b[0mnp\u001b[0m\u001b[1;33m.\u001b[0m\u001b[0mrandom\u001b[0m\u001b[1;33m.\u001b[0m\u001b[0mrand\u001b[0m\u001b[1;33m(\u001b[0m\u001b[1;36m20\u001b[0m\u001b[1;33m)\u001b[0m\u001b[1;33m\u001b[0m\u001b[0m\n",
      "\u001b[1;31mNameError\u001b[0m: name 'np' is not defined"
     ]
    }
   ],
   "source": [
    "x = np.arange(0,20)\n",
    "y = 0.1*x + np.random.rand(20)"
   ]
  },
  {
   "cell_type": "markdown",
   "metadata": {},
   "source": [
    "Now, let's make some axes and plot the data in there. This is super easy! The command to plot is simply `plot`, and we just tell matplotlib which axes to plot into. In the example below, we call the axes `ax`, but you could change this if you wanted."
   ]
  },
  {
   "cell_type": "code",
   "execution_count": null,
   "metadata": {},
   "outputs": [],
   "source": [
    "fig,ax = plt.subplots(1,1,figsize=(6,4))\n",
    "ax.plot(x,y)"
   ]
  },
  {
   "cell_type": "markdown",
   "metadata": {},
   "source": [
    "Cool! That's not too bad. As you can see, we just get a basic line plot. The default color is blue. Fine. \n",
    "\n",
    "Matplotlib has a few options for linestyles and for markers. Here is an example where we've asked for a dotted line and markers:"
   ]
  },
  {
   "cell_type": "code",
   "execution_count": null,
   "metadata": {},
   "outputs": [],
   "source": [
    "fig,ax = plt.subplots(1,1,figsize=(6,4))\n",
    "ax.plot(x,y,linestyle='--',marker='o')"
   ]
  },
  {
   "cell_type": "markdown",
   "metadata": {},
   "source": [
    "Holy smokes! Now we're talking. However, why stop at circular markers and a dotted line? You can change all kinds of things about the plots. \n",
    "\n",
    "**Problem 1** Figure out how to replot once more with [thin diamonds](https://matplotlib.org/api/markers_api.html#module-matplotlib.markers) and a [dotted line](https://matplotlib.org/api/_as_gen/matplotlib.lines.Line2D.html#matplotlib.lines.Line2D.set_linestyle).  Bonus: make the line twice as thick."
   ]
  },
  {
   "cell_type": "code",
   "execution_count": null,
   "metadata": {},
   "outputs": [],
   "source": [
    "fig,ax = plt.subplots(1,1,figsize=(6,4))\n",
    "# TODO"
   ]
  },
  {
   "cell_type": "markdown",
   "metadata": {},
   "source": [
    "### Scatter Plots"
   ]
  },
  {
   "cell_type": "markdown",
   "metadata": {},
   "source": [
    "Scatter plots are just plots in which there are no connecting lines. To do this, we'll just call `ax.scatter`.  It's really simple! Check this out:"
   ]
  },
  {
   "cell_type": "code",
   "execution_count": null,
   "metadata": {},
   "outputs": [],
   "source": [
    "fig,ax = plt.subplots(1,1,figsize=(6,4))\n",
    "ax.scatter(x,y)"
   ]
  },
  {
   "cell_type": "markdown",
   "metadata": {},
   "source": [
    "We can also scatter multiple data sets on the same axes. Below, we'll create a new vector of data called y2 and scatter it onto the plot."
   ]
  },
  {
   "cell_type": "code",
   "execution_count": null,
   "metadata": {},
   "outputs": [],
   "source": [
    "y2 = -(y**3)"
   ]
  },
  {
   "cell_type": "code",
   "execution_count": null,
   "metadata": {},
   "outputs": [],
   "source": [
    "fig,ax = plt.subplots(1,1,figsize=(6,4))\n",
    "ax.scatter(x,y)\n",
    "ax.scatter(x,y2)"
   ]
  },
  {
   "cell_type": "markdown",
   "metadata": {},
   "source": [
    "Figured out how the code above works? Ok, great! Then Google `matplotlib scatter` and read the documentation to determine how to...\n",
    "\n",
    "**Problem 2**: change the size and symbol of the *second* scatter in order to make the two datasets more easily differentiable. "
   ]
  },
  {
   "cell_type": "markdown",
   "metadata": {},
   "source": [
    "### Histograms\n",
    "\n",
    "Let's histogram something cool. How about the Titanic Data? Great. Let's load it in."
   ]
  },
  {
   "cell_type": "code",
   "execution_count": null,
   "metadata": {},
   "outputs": [],
   "source": [
    "web_path='https://raw.githubusercontent.com/dblarremore/csci3022/master/notebooks/data/clean_titanic_data.csv'\n",
    "df = pd.read_csv(web_path)\n",
    "df.head()"
   ]
  },
  {
   "cell_type": "markdown",
   "metadata": {},
   "source": [
    "It would be great if we could make a histogram easily from Pandas. Turns out, we can! Here's an example of a histogram of the Pclass variable."
   ]
  },
  {
   "cell_type": "code",
   "execution_count": null,
   "metadata": {},
   "outputs": [],
   "source": [
    "df['Pclass'].hist()"
   ]
  },
  {
   "cell_type": "markdown",
   "metadata": {},
   "source": [
    "Uhhhh can you believe how easy that was?  If you can or if you cannot, please...\n",
    "\n",
    "**Problem 3**: make a histogram of the `Age` variable. "
   ]
  },
  {
   "cell_type": "code",
   "execution_count": null,
   "metadata": {},
   "outputs": [],
   "source": [
    "# TODO"
   ]
  },
  {
   "cell_type": "markdown",
   "metadata": {},
   "source": [
    "Great. But what if we're *not using* pandas? What if we just have data and we'd like to make a histogram of it? Fear not. Matplotlib is seriously great."
   ]
  },
  {
   "cell_type": "code",
   "execution_count": null,
   "metadata": {},
   "outputs": [],
   "source": [
    "# Mini Problem 3.1\n",
    "# Can you figure out what the next two lines are doing?\n",
    "data = np.random.rand(40)\n",
    "data[10:] += 0.3\n",
    "\n",
    "# Make a histogram the matplotlib way\n",
    "fig,ax = plt.subplots(1,1,figsize=(6,4))\n",
    "ax.hist(data)"
   ]
  },
  {
   "cell_type": "markdown",
   "metadata": {},
   "source": [
    "Well, it looks ok. But the bars of the histogram are smushed together.  We'll want to gussy it up a little by changing the edge colors to white."
   ]
  },
  {
   "cell_type": "code",
   "execution_count": null,
   "metadata": {},
   "outputs": [],
   "source": [
    "fig,ax = plt.subplots(1,1,figsize=(6,4))\n",
    "ax.hist(data,edgecolor='white')"
   ]
  },
  {
   "cell_type": "markdown",
   "metadata": {},
   "source": [
    "Compare this to what we'd get from pandas:"
   ]
  },
  {
   "cell_type": "code",
   "execution_count": null,
   "metadata": {},
   "outputs": [],
   "source": [
    "# This code calls the DataFrame constructor around our dataset 'data' \n",
    "# and then called hist() on that.\n",
    "pd.DataFrame(data).hist()"
   ]
  },
  {
   "cell_type": "markdown",
   "metadata": {},
   "source": [
    "### Box and Whiskers"
   ]
  },
  {
   "cell_type": "markdown",
   "metadata": {},
   "source": [
    "NOTEBOOK ERROR!!! CELL NOT FOUND!"
   ]
  },
  {
   "cell_type": "markdown",
   "metadata": {},
   "source": [
    "**Problem 4**: Well shoot. Looks like something was botched with the cell above. Can you (1) figure out how to make a box and whiskers plot of the Titanic `Age` dataset using `matplotlib` by finding the documentation for `matplotlib boxplot` online?"
   ]
  },
  {
   "cell_type": "code",
   "execution_count": null,
   "metadata": {},
   "outputs": [],
   "source": [
    "# TODO"
   ]
  },
  {
   "cell_type": "markdown",
   "metadata": {},
   "source": [
    "# Make it pretty\n",
    "\n",
    "Sure. You can make plots that are ugly. But why would you? \n",
    "\n",
    "And sure, you can make plots that have no axis labels or legend, but then you'd get **zeroes** when you turned those in... so why would you?  Check out these beauty tips!"
   ]
  },
  {
   "cell_type": "markdown",
   "metadata": {},
   "source": [
    "### Axis Labels\n",
    "\n",
    "Very easy. \n",
    "- `ax.set_xlabel(\"string\")`\n",
    "- `ax.set_ylabel(\"string\")`"
   ]
  },
  {
   "cell_type": "code",
   "execution_count": null,
   "metadata": {},
   "outputs": [],
   "source": [
    "fig,ax = plt.subplots(1,1,figsize=(6,4))\n",
    "ax.hist(data,edgecolor='white')\n",
    "ax.set_xlabel(\"octopus tentacle health\")\n",
    "ax.set_ylabel(\"count\")\n",
    "# You can also change the font size!\n",
    "# UNCOMMENT this code and try it!\n",
    "# ax.yaxis.label.set_size(14)\n",
    "# ax.xaxis.label.set_size(14)"
   ]
  },
  {
   "cell_type": "markdown",
   "metadata": {},
   "source": [
    "### Legends\n",
    "\n",
    "Again, matplotlib makes legends really easy. In fact, we get to *name* our data when we plot it by using the `label` option. Then, afterward, we simply ask matplotlib to turn on the legend."
   ]
  },
  {
   "cell_type": "code",
   "execution_count": null,
   "metadata": {},
   "outputs": [],
   "source": [
    "fig,ax = plt.subplots(1,1,figsize=(6,4))\n",
    "ax.scatter(x,y,label=\"Mimic octopus\")\n",
    "ax.scatter(x,y2,label=\"Caribbean reef octopus\")\n",
    "ax.legend()"
   ]
  },
  {
   "cell_type": "markdown",
   "metadata": {},
   "source": [
    "### Color\n",
    "There are so many beautiful colors. Why use the defaults? First of all, you can plot in [lots of different colors](https://matplotlib.org/examples/color/named_colors.html)!  Here we go!"
   ]
  },
  {
   "cell_type": "code",
   "execution_count": null,
   "metadata": {},
   "outputs": [],
   "source": [
    "fig,ax = plt.subplots(1,1,figsize=(6,4))\n",
    "ax.plot(x,y,\n",
    "        linestyle='--',\n",
    "        marker='o',\n",
    "        color=\"green\")"
   ]
  },
  {
   "cell_type": "markdown",
   "metadata": {},
   "source": [
    "Oooooh that's looking great! Let's see some more, by using the power of subplots. "
   ]
  },
  {
   "cell_type": "code",
   "execution_count": 11,
   "metadata": {},
   "outputs": [
    {
     "ename": "NameError",
     "evalue": "name 'y' is not defined",
     "output_type": "error",
     "traceback": [
      "\u001b[1;31m---------------------------------------------------------------------------\u001b[0m",
      "\u001b[1;31mNameError\u001b[0m                                 Traceback (most recent call last)",
      "\u001b[1;32m<ipython-input-11-80e56c73f75a>\u001b[0m in \u001b[0;36m<module>\u001b[1;34m()\u001b[0m\n\u001b[0;32m      2\u001b[0m \u001b[0mfig\u001b[0m\u001b[1;33m,\u001b[0m\u001b[0maxs\u001b[0m \u001b[1;33m=\u001b[0m \u001b[0mplt\u001b[0m\u001b[1;33m.\u001b[0m\u001b[0msubplots\u001b[0m\u001b[1;33m(\u001b[0m\u001b[1;36m5\u001b[0m\u001b[1;33m,\u001b[0m\u001b[1;36m1\u001b[0m\u001b[1;33m,\u001b[0m\u001b[0mfigsize\u001b[0m\u001b[1;33m=\u001b[0m\u001b[1;33m(\u001b[0m\u001b[1;36m6\u001b[0m\u001b[1;33m,\u001b[0m\u001b[1;36m12\u001b[0m\u001b[1;33m)\u001b[0m\u001b[1;33m)\u001b[0m\u001b[1;33m\u001b[0m\u001b[0m\n\u001b[0;32m      3\u001b[0m \u001b[1;32mfor\u001b[0m \u001b[0midx\u001b[0m\u001b[1;33m,\u001b[0m\u001b[0max\u001b[0m \u001b[1;32min\u001b[0m \u001b[0menumerate\u001b[0m\u001b[1;33m(\u001b[0m\u001b[0maxs\u001b[0m\u001b[1;33m)\u001b[0m\u001b[1;33m:\u001b[0m\u001b[1;33m\u001b[0m\u001b[0m\n\u001b[1;32m----> 4\u001b[1;33m     ax.plot(x,y,\n\u001b[0m\u001b[0;32m      5\u001b[0m             \u001b[0mlinestyle\u001b[0m\u001b[1;33m=\u001b[0m\u001b[1;34m'--'\u001b[0m\u001b[1;33m,\u001b[0m\u001b[1;33m\u001b[0m\u001b[0m\n\u001b[0;32m      6\u001b[0m             \u001b[0mmarker\u001b[0m\u001b[1;33m=\u001b[0m\u001b[1;34m'o'\u001b[0m\u001b[1;33m,\u001b[0m\u001b[1;33m\u001b[0m\u001b[0m\n",
      "\u001b[1;31mNameError\u001b[0m: name 'y' is not defined"
     ]
    },
    {
     "data": {
      "image/png": "[encoded data removed]",
      "text/plain": [
       "<Figure size 432x864 with 5 Axes>"
      ]
     },
     "metadata": {},
     "output_type": "display_data"
    }
   ],
   "source": [
    "color_list = [\"black\",\"lightseagreen\",\"palevioletred\",\"papayawhip\",\"cornflowerblue\"]\n",
    "fig,axs = plt.subplots(5,1,figsize=(6,12))\n",
    "for idx,ax in enumerate(axs):\n",
    "    ax.plot(x,y,\n",
    "            linestyle='--',\n",
    "            marker='o',\n",
    "           color=color_list[idx],\n",
    "           label=color_list[idx])\n",
    "    ax.legend()"
   ]
  },
  {
   "cell_type": "markdown",
   "metadata": {},
   "source": [
    "**Bonus Problem**: We used a function up above called `enumerate`.  Can you figure out what enumerate does?"
   ]
  },
  {
   "cell_type": "markdown",
   "metadata": {},
   "source": [
    "### Transparency\n",
    "\n",
    "Finally, we can gussy things up by making them more or less transparent. This is done by setting the `alpha` value of the data. In the first plot, notice that it's hard to see what's going on, really. The points are all stacked up. But we can't see how densely they are stacked up."
   ]
  },
  {
   "cell_type": "code",
   "execution_count": null,
   "metadata": {},
   "outputs": [],
   "source": [
    "fig,ax = plt.subplots(1,1,figsize=(6,4))\n",
    "ax.scatter(df[\"Age\"],df[\"Fare\"],label=\"Titanic Users\")\n",
    "ax.set_xlabel(\"Age\")\n",
    "ax.set_ylabel(\"Fare\")\n",
    "ax.legend()"
   ]
  },
  {
   "cell_type": "markdown",
   "metadata": {},
   "source": [
    "`alpha` to the rescue!  When `alpha=0` the transparency is complete, with all the light getting through. When `alpha=1`, none of the light gets through and the colors are flat. This is the default. "
   ]
  },
  {
   "cell_type": "code",
   "execution_count": null,
   "metadata": {},
   "outputs": [],
   "source": [
    "fig,ax = plt.subplots(1,1,figsize=(6,4))\n",
    "ax.scatter(df[\"Age\"],df[\"Fare\"],label=\"Titanic Users\",alpha=0.2)\n",
    "ax.set_xlabel(\"Age\")\n",
    "ax.set_ylabel(\"Fare\")\n",
    "ax.legend()"
   ]
  },
  {
   "cell_type": "markdown",
   "metadata": {},
   "source": [
    "# Saving\n",
    "\n",
    "This is so easy. \n",
    "\n",
    "`plt.savefig('NAME.FILETYPE')`"
   ]
  },
  {
   "cell_type": "code",
   "execution_count": null,
   "metadata": {},
   "outputs": [],
   "source": [
    "fig,ax = plt.subplots(1,1,figsize=(6,4))\n",
    "ax.scatter(df[\"Age\"],df[\"Fare\"],label=\"Titanic Users\",alpha=0.1,color=\"green\")\n",
    "ax.set_xlabel(\"Age\")\n",
    "ax.set_ylabel(\"Fare\")\n",
    "ax.legend()\n",
    "plt.savefig('age_vs_fare.pdf') # save it as a pdf\n",
    "plt.savefig('a_vs_f.png') # save it as a png\n",
    "# Can you believe how easy this is??"
   ]
  },
  {
   "cell_type": "markdown",
   "metadata": {},
   "source": [
    "# Pro Tip\n",
    "ALERT: SUPERUSER PRO TIP!! Make your plot options real pretty by taking advantage of the fact that newlines aren't important to python:"
   ]
  },
  {
   "cell_type": "code",
   "execution_count": null,
   "metadata": {},
   "outputs": [],
   "source": [
    "fig,ax = plt.subplots(1,1,figsize=(6,4))\n",
    "ax.scatter(x,y,\n",
    "           label=\"Mimic octopus\",\n",
    "           color=\"red\",\n",
    "           marker=\"x\",)\n",
    "ax.scatter(x,y2,\n",
    "           label=\"Caribbean reef octopus\",\n",
    "           color=\"white\",\n",
    "           marker='d',\n",
    "           edgecolors=\"blue\",\n",
    "           s=50,)\n",
    "ax.legend()"
   ]
  },
  {
   "cell_type": "markdown",
   "metadata": {},
   "source": [
    "# Final Exam"
   ]
  },
  {
   "cell_type": "code",
   "execution_count": 7,
   "metadata": {},
   "outputs": [],
   "source": [
    "# make up some data\n",
    "x = np.random.normal(5,size=40)\n",
    "y1 = np.random.negative_binomial(np.arange(1,41),0.1)\n",
    "y2 = 50*x + 10*np.random.rand(40)"
   ]
  },
  {
   "cell_type": "markdown",
   "metadata": {},
   "source": [
    "**Problem 6**:  \n",
    "\n",
    "Create a 4-panel plot (2x2) that consists of the following:\n",
    "\n",
    "1. A scatter plot of both `y1` and `y2` vs `x`. Make `y1` green circles and make `y2` black x's. Make the green circles transparent and cartoonishly large.\n",
    "2. Two side-by-side boxplots in a single plot, where the left boxplot is `y1` and the right boxplot is `y2`.\n",
    "3. A histogram of the `x` values. Make it yellow with black outlines.\n",
    "4. A plot of `y2` vs `x` in which the values are connected by a dot-dash line. Make it pink.\n",
    "\n",
    "Be sure to label your axes with something funny, and include a legend on your scatter plot"
   ]
  },
  {
   "cell_type": "code",
   "execution_count": 16,
   "metadata": {},
   "outputs": [
    {
     "data": {
      "text/plain": [
       "<matplotlib.collections.PathCollection at 0x227e01763c8>"
      ]
     },
     "execution_count": 16,
     "metadata": {},
     "output_type": "execute_result"
    },
    {
     "data": {
      "image/png": "[encoded data removed]",
      "text/plain": [
       "<Figure size 864x576 with 4 Axes>"
      ]
     },
     "metadata": {},
     "output_type": "display_data"
    }
   ],
   "source": [
    "fig,axs = plt.subplots(2,2,figsize=(12,8))\n",
    "\n",
    "# Scatter\n",
    "axs[0][0].scatter(x,y1,\n",
    "           color=\"green\",\n",
    "           alpha=0.1)\n",
    "axs[0,0].scatter(x,y2,\n",
    "                s=250)\n",
    "# Boxplots\n",
    "\n",
    "# Histogram\n",
    "\n",
    "# Plot"
   ]
  },
  {
   "cell_type": "code",
   "execution_count": null,
   "metadata": {},
   "outputs": [],
   "source": []
  }
 ],
 "metadata": {
  "kernelspec": {
   "display_name": "Python 3",
   "language": "python",
   "name": "python3"
  },
  "language_info": {
   "codemirror_mode": {
    "name": "ipython",
    "version": 3
   },
   "file_extension": ".py",
   "mimetype": "text/x-python",
   "name": "python",
   "nbconvert_exporter": "python",
   "pygments_lexer": "ipython3",
   "version": "3.6.5"
  }
 },
 "nbformat": 4,
 "nbformat_minor": 2
}
