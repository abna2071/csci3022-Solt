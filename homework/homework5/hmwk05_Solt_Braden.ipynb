{
 "cells": [
  {
   "cell_type": "markdown",
   "metadata": {},
   "source": [
    "<a id='top'></a>\n",
    "\n",
    "# Homework 5: Confidence intervals and other things\n",
    "***\n",
    "\n",
    "**Name**: Braden Solt\n",
    "\n",
    "***\n",
    "\n",
    "This assignment is due on Moodle by **5 PM on Friday November 9**. Your solutions to theoretical questions should be done in Markdown/MathJax directly below the associated question.  Your solutions to computational questions should include any specified Python code and results as well as written commentary on your conclusions.  Remember that you are encouraged to discuss the problems with your instructors and classmates, but **you must write all code and solutions on your own**.  \n",
    "\n",
    "**NOTES**: \n",
    "\n",
    "- Do **NOT** load or use any Python packages that are not available in Anaconda 3.6. \n",
    "- Some problems with code may be autograded.  If we provide a function API **do not** change it.  If we do not provide a function API then you're free to structure your code however you like. \n",
    "- Because you can technically evaluate notebook cells is a non-linear order, it's a good idea to do Cell $\\rightarrow$ Run All as a check before submitting your solutions.  That way if we need to run your code you will know that it will work as expected. \n",
    "- Submit only this Jupyter notebook to Moodle.  Do not compress it using tar, rar, zip, etc. \n",
    "- This should go without saying, but... For any question that asks you to calculate something, you **must show all work to receive credit**. Sparse or nonexistent work will receive sparse or nonexistent credit.\n",
    "\n",
    "---\n",
    "**Shortcuts:**  [Problem 1](#p1) | [Problem 2](#p2) | [Problem 3](#p3) | [Problem 4](#p4)\n",
    "\n",
    "---"
   ]
  },
  {
   "cell_type": "code",
   "execution_count": 1,
   "metadata": {
    "scrolled": true
   },
   "outputs": [],
   "source": [
    "import numpy as np\n",
    "import matplotlib.pyplot as plt\n",
    "import pandas as pd\n",
    "import scipy.stats as stats\n",
    "%matplotlib inline"
   ]
  },
  {
   "cell_type": "markdown",
   "metadata": {},
   "source": [
    "---\n",
    "\n",
    "<a id='p1'></a>\n",
    "[Back to top](#top)\n",
    "\n",
    "### [30 points] Problem 1 - Sea-level rise, schmee-level rise!\n",
    "\n",
    "You have been contacted by the local government of Key West, Florida, to assess whether there is statistical evidence for sea-level rise in the area. You obtain from the University of Hawaii Sea Level Center's [gigantic repository of sea-level data](https://uhslc.soest.hawaii.edu/data/?rq) the daily mean sea levels file [linked here](https://piazza.com/class_profile/get_resource/jhaqogsdelf76h/jixzm0rl5dp6y4) and below.\n",
    "\n",
    "In this problem, you will:\n",
    "1. practice calculating confidence intervals, \n",
    "1. practice wrangling a real-life data set into a form where you can actually compute these confidence intervals, because life will rarely be so kind as to simply hand you a nicely packaged and cleaned set of data, and\n",
    "1. save Key West from a watery fate?"
   ]
  },
  {
   "cell_type": "code",
   "execution_count": 2,
   "metadata": {},
   "outputs": [
    {
     "data": {
      "text/html": [
       "<div>\n",
       "<style scoped>\n",
       "    .dataframe tbody tr th:only-of-type {\n",
       "        vertical-align: middle;\n",
       "    }\n",
       "\n",
       "    .dataframe tbody tr th {\n",
       "        vertical-align: top;\n",
       "    }\n",
       "\n",
       "    .dataframe thead th {\n",
       "        text-align: right;\n",
       "    }\n",
       "</style>\n",
       "<table border=\"1\" class=\"dataframe\">\n",
       "  <thead>\n",
       "    <tr style=\"text-align: right;\">\n",
       "      <th></th>\n",
       "      <th>Year</th>\n",
       "      <th>Month</th>\n",
       "      <th>Day</th>\n",
       "      <th>SL</th>\n",
       "    </tr>\n",
       "  </thead>\n",
       "  <tbody>\n",
       "    <tr>\n",
       "      <th>0</th>\n",
       "      <td>1913</td>\n",
       "      <td>1</td>\n",
       "      <td>20</td>\n",
       "      <td>1453</td>\n",
       "    </tr>\n",
       "    <tr>\n",
       "      <th>1</th>\n",
       "      <td>1913</td>\n",
       "      <td>1</td>\n",
       "      <td>21</td>\n",
       "      <td>1439</td>\n",
       "    </tr>\n",
       "    <tr>\n",
       "      <th>2</th>\n",
       "      <td>1913</td>\n",
       "      <td>1</td>\n",
       "      <td>22</td>\n",
       "      <td>1444</td>\n",
       "    </tr>\n",
       "    <tr>\n",
       "      <th>3</th>\n",
       "      <td>1913</td>\n",
       "      <td>1</td>\n",
       "      <td>23</td>\n",
       "      <td>1489</td>\n",
       "    </tr>\n",
       "    <tr>\n",
       "      <th>4</th>\n",
       "      <td>1913</td>\n",
       "      <td>1</td>\n",
       "      <td>24</td>\n",
       "      <td>1474</td>\n",
       "    </tr>\n",
       "  </tbody>\n",
       "</table>\n",
       "</div>"
      ],
      "text/plain": [
       "   Year  Month  Day    SL\n",
       "0  1913      1   20  1453\n",
       "1  1913      1   21  1439\n",
       "2  1913      1   22  1444\n",
       "3  1913      1   23  1489\n",
       "4  1913      1   24  1474"
      ]
     },
     "execution_count": 2,
     "metadata": {},
     "output_type": "execute_result"
    }
   ],
   "source": [
    "# Local and web paths to the data; pick which works for you.\n",
    "local_path = \"data/sealevel_keywest.csv\"\n",
    "web_path   = \"https://raw.githubusercontent.com/dblarremore/csci3022/master/homework/homework5/data/sealevel_keywest.csv\"\n",
    "file_path  = local_path\n",
    "\n",
    "dfSL = pd.read_csv(file_path, header=None)\n",
    "dfSL.rename(columns={0 : 'Year', 1 : 'Month', 2 : 'Day', 3 : 'SL'}, inplace=True)\n",
    "dfSL.head()"
   ]
  },
  {
   "cell_type": "markdown",
   "metadata": {},
   "source": [
    "**Part A:**  Write a function `clean_data` to:\n",
    "1. take in a single argument of a raw sea level data frame (e.g., `dfSL` above),\n",
    "2. compute the fill-value used to replace missing sea level (SL) data (**not** hard-coded!),\n",
    "3. use the Pandas `DataFrame.dropna` method to remove all missing rows of data, \n",
    "4. select only the data point on the second day of each month, and\n",
    "4. return a cleaned Pandas data frame.\n",
    "\n",
    "Use your shiny new function to clean the `dfSL` data frame and save the results in a new data frame.\n",
    "\n",
    "There is a very specific reason to sample only one daily data point per month. We will talk about it later."
   ]
  },
  {
   "cell_type": "code",
   "execution_count": 3,
   "metadata": {},
   "outputs": [
    {
     "name": "stdout",
     "output_type": "stream",
     "text": [
      "Missing values are replaced with -32767\n"
     ]
    },
    {
     "data": {
      "text/html": [
       "<div>\n",
       "<style scoped>\n",
       "    .dataframe tbody tr th:only-of-type {\n",
       "        vertical-align: middle;\n",
       "    }\n",
       "\n",
       "    .dataframe tbody tr th {\n",
       "        vertical-align: top;\n",
       "    }\n",
       "\n",
       "    .dataframe thead th {\n",
       "        text-align: right;\n",
       "    }\n",
       "</style>\n",
       "<table border=\"1\" class=\"dataframe\">\n",
       "  <thead>\n",
       "    <tr style=\"text-align: right;\">\n",
       "      <th></th>\n",
       "      <th>Year</th>\n",
       "      <th>Month</th>\n",
       "      <th>Day</th>\n",
       "      <th>SL</th>\n",
       "    </tr>\n",
       "  </thead>\n",
       "  <tbody>\n",
       "    <tr>\n",
       "      <th>13</th>\n",
       "      <td>1913.0</td>\n",
       "      <td>2.0</td>\n",
       "      <td>2.0</td>\n",
       "      <td>1409.0</td>\n",
       "    </tr>\n",
       "    <tr>\n",
       "      <th>41</th>\n",
       "      <td>1913.0</td>\n",
       "      <td>3.0</td>\n",
       "      <td>2.0</td>\n",
       "      <td>1397.0</td>\n",
       "    </tr>\n",
       "    <tr>\n",
       "      <th>72</th>\n",
       "      <td>1913.0</td>\n",
       "      <td>4.0</td>\n",
       "      <td>2.0</td>\n",
       "      <td>1402.0</td>\n",
       "    </tr>\n",
       "    <tr>\n",
       "      <th>102</th>\n",
       "      <td>1913.0</td>\n",
       "      <td>5.0</td>\n",
       "      <td>2.0</td>\n",
       "      <td>1450.0</td>\n",
       "    </tr>\n",
       "    <tr>\n",
       "      <th>133</th>\n",
       "      <td>1913.0</td>\n",
       "      <td>6.0</td>\n",
       "      <td>2.0</td>\n",
       "      <td>1490.0</td>\n",
       "    </tr>\n",
       "  </tbody>\n",
       "</table>\n",
       "</div>"
      ],
      "text/plain": [
       "       Year  Month  Day      SL\n",
       "13   1913.0    2.0  2.0  1409.0\n",
       "41   1913.0    3.0  2.0  1397.0\n",
       "72   1913.0    4.0  2.0  1402.0\n",
       "102  1913.0    5.0  2.0  1450.0\n",
       "133  1913.0    6.0  2.0  1490.0"
      ]
     },
     "execution_count": 3,
     "metadata": {},
     "output_type": "execute_result"
    }
   ],
   "source": [
    "def clean_data(df):\n",
    "    dfClean = df\n",
    "    print( \"Missing values are replaced with\", min(df['SL']) )\n",
    "    dfClean[df['SL'] == min(df['SL'])] = float('nan')\n",
    "#     drop those na\n",
    "    dfClean = dfClean.dropna()\n",
    "#     Get only data for the second days\n",
    "    dfClean = dfClean[dfClean['Day']==2]\n",
    "    \n",
    "    \n",
    "    return dfClean\n",
    "\n",
    "dfClean = clean_data(dfSL)\n",
    "dfClean.head()"
   ]
  },
  {
   "cell_type": "markdown",
   "metadata": {},
   "source": [
    "**Part B:**  Plot the cleaned time series of sea levels. Be sure to label your axes, including units. The UHSLC data portal includes a link to the metadata accompanying our data set; if you are not sure about units, that would be a good place to start looking. For the $x$-axis, place the $x$ tick marks on January 2 of each year that is divisible by 10 (i.e., 1920, 1930, ...), and label with that year. You may need to do additional processing in order to grab these indices. \n",
    "\n",
    "**Bonus challenge (0 points):**  Why do we choose to work with the second day of each month instead of the first?  You may need to look at the original data set to answer this."
   ]
  },
  {
   "cell_type": "code",
   "execution_count": 5,
   "metadata": {},
   "outputs": [
    {
     "data": {
      "image/png": "[encoded data removed]",
      "text/plain": [
       "<Figure size 864x432 with 1 Axes>"
      ]
     },
     "metadata": {},
     "output_type": "display_data"
    }
   ],
   "source": [
    "plt.figure(figsize=(12,6))\n",
    "plt.plot(np.arange(0,len(dfClean)),np.array(dfClean['SL']),'.-')\n",
    "plt.title('Key West Sea Level Data',fontsize=20)\n",
    "plt.xlabel('Time, [year]',fontsize=12)\n",
    "plt.ylabel('Sea Level, [mm]\\nabove the station tide staff zero',fontsize=12)\n",
    "plt.grid(alpha=0.5)\n",
    "\n",
    "\n",
    "# Fix the ticks\n",
    "btick = np.logical_and(dfClean['Month']==1,dfClean['Year']%10==0)\n",
    "ticks = np.arange(0,len(dfClean))[btick]\n",
    "dfClean.head()\n",
    "# Do this so stupid python doesn't say the year is '1920.0'\n",
    "labels = ['{:.0f}'.format(y) for y in dfClean['Year'][btick]]\n",
    "plt.xticks(ticks,labels);"
   ]
  },
  {
   "cell_type": "markdown",
   "metadata": {},
   "source": [
    "**Part C:** Use your cleaned sea levels data frame to create two new Pandas data frames or series:\n",
    "1. one object to contain the sea levels between (and including) the years 1986 and 1995, and\n",
    "2. another object to contain the sea levels between (and including) the years 2006 and 2015.\n",
    "\n",
    "Then, create a single-panel figure that includes density histograms of each decade of sea levels. Be sure to label everything appropriately.\n",
    "\n",
    "Finally, based on the data in front of you, formulate and state a hypothesis about how the mean sea level in the decade 2006-2015 compares to the mean sea level in the decade 1986-1995."
   ]
  },
  {
   "cell_type": "code",
   "execution_count": 6,
   "metadata": {},
   "outputs": [
    {
     "data": {
      "image/png": "[encoded data removed]",
      "text/plain": [
       "<Figure size 864x432 with 1 Axes>"
      ]
     },
     "metadata": {},
     "output_type": "display_data"
    }
   ],
   "source": [
    "dfOld = dfClean[ np.logical_and(dfClean['Year']>=1986,dfClean['Year']<=1995) ]\n",
    "dfNew = dfClean[ np.logical_and(dfClean['Year']>=2006,dfClean['Year']<=2015) ]\n",
    "\n",
    "fig,ax = plt.subplots(1,1,figsize=(12,6))\n",
    "# ax.set_facecolor('xkcd:charcoal')\n",
    "b = np.linspace(1400,2100,15)\n",
    "plt.grid(alpha=0.5)\n",
    "plt.hist(dfOld['SL'],\n",
    "         bins=b,\n",
    "         density=True,\n",
    "         color='xkcd:sky blue',\n",
    "         edgecolor='white',\n",
    "         alpha=0.5,\n",
    "         label='1986--1995')\n",
    "plt.hist(dfNew['SL'],\n",
    "         bins=b,\n",
    "         density=True,\n",
    "         color='xkcd:spring green',\n",
    "         edgecolor='white',\n",
    "         alpha=0.5,\n",
    "         label='2006--2015')\n",
    "plt.legend()\n",
    "plt.xlabel('Sea Levels, [mm]',fontsize=12)\n",
    "plt.ylabel('Frequency',fontsize=12)\n",
    "plt.title('Comparing Sea Level Measurements from two deccades',fontsize=20);\n"
   ]
  },
  {
   "cell_type": "markdown",
   "metadata": {},
   "source": [
    "Based on the above plot, I hypothesize that mean sea levels are getting higher. Explitictly, $\\mu_{2006-2015}>\\mu_{1986-1995}$"
   ]
  },
  {
   "cell_type": "markdown",
   "metadata": {},
   "source": [
    "**Part D:** Compute a 99.9% confidence interval for each of (1) the mean sea level in the 1986-1995 decade ($\\mu_{1986-1995}$) and (2) the mean sea level in the 2006-2015 decade ($\\mu_{2006-2015}$).  You may use Python for arithmetic operations and executing the calculations, but the relevant steps/set-up should be displayed in Markdown/MathJax.\n",
    "\n",
    "Based on these two confidence intervals, do you think there is sufficient evidence to conclude that there is or is not a significant difference in the mean sea level between 1986-1995 and 2006-2015? Justify your answer. "
   ]
  },
  {
   "cell_type": "code",
   "execution_count": 7,
   "metadata": {},
   "outputs": [
    {
     "name": "stdout",
     "output_type": "stream",
     "text": [
      "The confidence interval for mean sea level from 1986--1995 is\n",
      "[1670.6+-29.6]mm or [1641.0,1700.2]mm\n",
      "The confidence interval for mean sea level from 2006--2015 is\n",
      "[1720.7+-33.3]mm or [1687.4,1753.9]mm\n"
     ]
    }
   ],
   "source": [
    "from math import sqrt\n",
    "\n",
    "za = stats.norm.ppf(1-0.0005)\n",
    "mo = dfOld['SL'].mean()\n",
    "so = dfOld['SL'].std()\n",
    "no = len(dfOld['SL'])\n",
    "print('The confidence interval for mean sea level from 1986--1995 is\\n[{:.1f}+-{:.1f}]mm or [{:.1f},{:.1f}]mm'\n",
    "     .format(mo, za*so/sqrt(no), mo-za*so/sqrt(no), mo+za*so/sqrt(no)))\n",
    "\n",
    "mn = dfNew['SL'].mean()\n",
    "sn = dfNew['SL'].std()\n",
    "nn = len(dfNew['SL'])\n",
    "print('The confidence interval for mean sea level from 2006--2015 is\\n[{:.1f}+-{:.1f}]mm or [{:.1f},{:.1f}]mm'\n",
    "     .format(mn, za*sn/sqrt(nn), mn-za*sn/sqrt(nn), mn+za*sn/sqrt(nn)))"
   ]
  },
  {
   "cell_type": "markdown",
   "metadata": {},
   "source": [
    "The 99.9% confidence intervals for our estimators of the mean can be calculated via application of the central limit theorem and a Box-Muller transform. First, the central limit theorem, which can be applied because we have many data points, states that the distribution of the esitmator $\\bar{X}$ can be described by a normal distribution $\\text{Norm}(\\bar{X},\\frac{\\sigma^2}{N})$ (desicribed in terms of variance). Because the population standard deviation, $\\sigma$ is unknown, the sample standard deviation $s$ is used instead. An application of the Box-Muller transform removes relates this normal distribution to a standard normal distribution. This allows the use of $z_\\alpha$ values, where $\\alpha$ is half of $\\frac{1-99.9\\%}{2}$ The final confidence interval is represented by the expression\n",
    "$$CI_{99.9\\%} = \\bar{X} \\pm z_{0.0005}\\frac{s}{\\sqrt{N}}$$\n",
    "These confidence intervals are found by the above code as $1670.6\\pm29.6$mm for mean sea level from 1986-1995 and $1720.7\\pm33.3$mm for mean sea level from 2006-2015. The sample mean inceases by 50mm between the two deccades' data. Because the extent of both 99.9% confidence intervals is less than 50mm, there is statistical evidence to suggest the means are different."
   ]
  },
  {
   "cell_type": "markdown",
   "metadata": {},
   "source": [
    "**Part E:**  Compute a 99.9% confidence interval for the ***difference in mean sea level*** between the 2006-2015 and the 1986-1995 decades ($\\mu_{2006-2015} - \\mu_{1986-1995}$. Based on this, make a conclusion regarding your hypothesis from **Part C**, and compare to what your results in **Part D** implied. You may use Python for arithmetic operations and executing the calculations, but the relevant steps/set-up should be displayed in Markdown/MathJax."
   ]
  },
  {
   "cell_type": "markdown",
   "metadata": {},
   "source": [
    "For the esitmator of the ***difference in mean sea level***, another confidence interval can be found. For this estimator, the distribution can be described as $\\text{Norm}(\\bar{X}-\\bar{Y},\\frac{\\sigma_X^2}{N_X}+\\frac{\\sigma_Y^2}{N_Y})$. Again the population standard distribution can be replaced by the sample standard deviations for the respective popultions. This confidence interval is solved for below as $50.1\\pm44.5$mm. \n",
    "\n",
    "This result confirms the hypothesis made in **Part C**, because the 99.9% confidence interval for the difference of means does not contain zero. This means that there is less than an 0.01% chance that this data would be seen under the null hypothesis that the mean sea levels are equal. The results implied from **Part D** are also confirmed. The fact that each sample mean was just outside the confidence interval of the other is equivalent to the fact that zero is not included in the confidence interval for the difference of means."
   ]
  },
  {
   "cell_type": "code",
   "execution_count": 8,
   "metadata": {},
   "outputs": [
    {
     "name": "stdout",
     "output_type": "stream",
     "text": [
      "The confidence interval for difference in mean sea levels is\n",
      "[50.1+-44.5]mm or [5.6,94.6]mm\n"
     ]
    }
   ],
   "source": [
    "print('The confidence interval for difference in mean sea levels is\\n[{:.1f}+-{:.1f}]mm or [{:.1f},{:.1f}]mm'\n",
    "     .format(mn-mo, za*sqrt(sn**2/nn+so**2/no), mn-mo-za*sqrt(sn**2/nn+so**2/no), mn-mo+za*sqrt(sn**2/nn+so**2/no) ) )"
   ]
  },
  {
   "cell_type": "markdown",
   "metadata": {},
   "source": [
    "**Part F:**  The confidence intervals from **Parts D** and **E** were derived using the Central Limit Theorem.  Which assumption of the Central Limit Theorem would likely be violated if we took more than one measurement per month to form our samples, and why?"
   ]
  },
  {
   "cell_type": "markdown",
   "metadata": {},
   "source": [
    "The Central Limit Theorem has assumptions of the data being independent and identically distributed. If we took more than one measurement per month, then our samples would not meet theis assumption because they would not be as independent. Sea levels from one day to the next cannot be said to be independent."
   ]
  },
  {
   "cell_type": "markdown",
   "metadata": {},
   "source": [
    "---\n",
    "\n",
    "<a id='p2'></a>\n",
    "[Back to top](#top)\n",
    "\n",
    "### [25 points] Problem 2 - Quality of Red vs White Wine \n",
    "\n",
    "**Part A:** Load the data in [`winequalityred.csv`](https://piazza.com/class_profile/get_resource/jhaqogsdelf76h/jixzm1ebc6q6ye) and [`winequalitywhite.csv`](https://piazza.com/class_profile/get_resource/jhaqogsdelf76h/jixzm17x9pu6y9) into Pandas DataFrames.  They are available under Resources on Piazza, and linked here and below.  A description of this dataset can be found on [UC Irvine's Machine Learning Repository](https://archive.ics.uci.edu/ml/datasets/Wine+Quality). The quantity of interest for this problem is the quality of the wine.\n",
    "\n",
    "Are we justified in using the Central Limit Theorem in our analysis of estimates of the mean and proportions of the data?  Justify your response. "
   ]
  },
  {
   "cell_type": "code",
   "execution_count": 9,
   "metadata": {},
   "outputs": [],
   "source": [
    "# read either local or web file version; pick whichever works for you\n",
    "local_file_white = \"data/winequality-white.csv\"\n",
    "local_file_red   = \"data/winequality-red.csv\"\n",
    "web_file_white = \"https://raw.githubusercontent.com/dblarremore/csci3022/master/homework/homework5/data/winequality-white.csv\"\n",
    "web_file_red   = \"https://raw.githubusercontent.com/dblarremore/csci3022/master/homework/homework5/data/winequality-red.csv\"\n",
    "\n",
    "dfRed   = pd.read_csv(local_file_red, delimiter=';')\n",
    "dfWhite = pd.read_csv(local_file_white, delimiter=';')"
   ]
  },
  {
   "cell_type": "code",
   "execution_count": 10,
   "metadata": {},
   "outputs": [
    {
     "name": "stdout",
     "output_type": "stream",
     "text": [
      "1599 4898\n"
     ]
    },
    {
     "data": {
      "text/html": [
       "<div>\n",
       "<style scoped>\n",
       "    .dataframe tbody tr th:only-of-type {\n",
       "        vertical-align: middle;\n",
       "    }\n",
       "\n",
       "    .dataframe tbody tr th {\n",
       "        vertical-align: top;\n",
       "    }\n",
       "\n",
       "    .dataframe thead th {\n",
       "        text-align: right;\n",
       "    }\n",
       "</style>\n",
       "<table border=\"1\" class=\"dataframe\">\n",
       "  <thead>\n",
       "    <tr style=\"text-align: right;\">\n",
       "      <th></th>\n",
       "      <th>fixed acidity</th>\n",
       "      <th>volatile acidity</th>\n",
       "      <th>citric acid</th>\n",
       "      <th>residual sugar</th>\n",
       "      <th>chlorides</th>\n",
       "      <th>free sulfur dioxide</th>\n",
       "      <th>total sulfur dioxide</th>\n",
       "      <th>density</th>\n",
       "      <th>pH</th>\n",
       "      <th>sulphates</th>\n",
       "      <th>alcohol</th>\n",
       "      <th>quality</th>\n",
       "    </tr>\n",
       "  </thead>\n",
       "  <tbody>\n",
       "    <tr>\n",
       "      <th>0</th>\n",
       "      <td>7.4</td>\n",
       "      <td>0.70</td>\n",
       "      <td>0.00</td>\n",
       "      <td>1.9</td>\n",
       "      <td>0.076</td>\n",
       "      <td>11.0</td>\n",
       "      <td>34.0</td>\n",
       "      <td>0.9978</td>\n",
       "      <td>3.51</td>\n",
       "      <td>0.56</td>\n",
       "      <td>9.4</td>\n",
       "      <td>5</td>\n",
       "    </tr>\n",
       "    <tr>\n",
       "      <th>1</th>\n",
       "      <td>7.8</td>\n",
       "      <td>0.88</td>\n",
       "      <td>0.00</td>\n",
       "      <td>2.6</td>\n",
       "      <td>0.098</td>\n",
       "      <td>25.0</td>\n",
       "      <td>67.0</td>\n",
       "      <td>0.9968</td>\n",
       "      <td>3.20</td>\n",
       "      <td>0.68</td>\n",
       "      <td>9.8</td>\n",
       "      <td>5</td>\n",
       "    </tr>\n",
       "    <tr>\n",
       "      <th>2</th>\n",
       "      <td>7.8</td>\n",
       "      <td>0.76</td>\n",
       "      <td>0.04</td>\n",
       "      <td>2.3</td>\n",
       "      <td>0.092</td>\n",
       "      <td>15.0</td>\n",
       "      <td>54.0</td>\n",
       "      <td>0.9970</td>\n",
       "      <td>3.26</td>\n",
       "      <td>0.65</td>\n",
       "      <td>9.8</td>\n",
       "      <td>5</td>\n",
       "    </tr>\n",
       "    <tr>\n",
       "      <th>3</th>\n",
       "      <td>11.2</td>\n",
       "      <td>0.28</td>\n",
       "      <td>0.56</td>\n",
       "      <td>1.9</td>\n",
       "      <td>0.075</td>\n",
       "      <td>17.0</td>\n",
       "      <td>60.0</td>\n",
       "      <td>0.9980</td>\n",
       "      <td>3.16</td>\n",
       "      <td>0.58</td>\n",
       "      <td>9.8</td>\n",
       "      <td>6</td>\n",
       "    </tr>\n",
       "    <tr>\n",
       "      <th>4</th>\n",
       "      <td>7.4</td>\n",
       "      <td>0.70</td>\n",
       "      <td>0.00</td>\n",
       "      <td>1.9</td>\n",
       "      <td>0.076</td>\n",
       "      <td>11.0</td>\n",
       "      <td>34.0</td>\n",
       "      <td>0.9978</td>\n",
       "      <td>3.51</td>\n",
       "      <td>0.56</td>\n",
       "      <td>9.4</td>\n",
       "      <td>5</td>\n",
       "    </tr>\n",
       "  </tbody>\n",
       "</table>\n",
       "</div>"
      ],
      "text/plain": [
       "   fixed acidity  volatile acidity  citric acid  residual sugar  chlorides  \\\n",
       "0            7.4              0.70         0.00             1.9      0.076   \n",
       "1            7.8              0.88         0.00             2.6      0.098   \n",
       "2            7.8              0.76         0.04             2.3      0.092   \n",
       "3           11.2              0.28         0.56             1.9      0.075   \n",
       "4            7.4              0.70         0.00             1.9      0.076   \n",
       "\n",
       "   free sulfur dioxide  total sulfur dioxide  density    pH  sulphates  \\\n",
       "0                 11.0                  34.0   0.9978  3.51       0.56   \n",
       "1                 25.0                  67.0   0.9968  3.20       0.68   \n",
       "2                 15.0                  54.0   0.9970  3.26       0.65   \n",
       "3                 17.0                  60.0   0.9980  3.16       0.58   \n",
       "4                 11.0                  34.0   0.9978  3.51       0.56   \n",
       "\n",
       "   alcohol  quality  \n",
       "0      9.4        5  \n",
       "1      9.8        5  \n",
       "2      9.8        5  \n",
       "3      9.8        6  \n",
       "4      9.4        5  "
      ]
     },
     "execution_count": 10,
     "metadata": {},
     "output_type": "execute_result"
    }
   ],
   "source": [
    "print(len(dfRed),len(dfWhite))\n",
    "dfRed.head()"
   ]
  },
  {
   "cell_type": "markdown",
   "metadata": {},
   "source": [
    "The Central Limit Thoerem can be applied because there is plenty of data in both datasets."
   ]
  },
  {
   "cell_type": "markdown",
   "metadata": {},
   "source": [
    "**Part B:** Let $X$ be a random variable denoting the quality of a bottle of wine, and let $C$ be a random variable denoting its color (either red ($r$) or white ($w$)). For the remainder of this problem, we are concerned with probabilities such as \"If I buy a random bottle of red wine, what is the probability that its quality is at least a 7?\". We could write that probability as $P(X \\geq 7 \\mid C=r)$, for example, and consider it the ***proportion*** of the population of red wines that are at least a 7 in quality. Calculate and report estimates of $P(X \\geq 7 \\mid C=r)$ and $P(X \\geq 7 \\mid C=w)$.\n",
    "\n",
    "Obtain 95% confidence intervals for the proportion of red and white wines that are **at least** a 7 in quality (obtain one CI for each color).  Based on your results, if you are interested in buying many high quality bottles of wine but are buying totally at random, is one color a better bet than the other? Fully justify your answer.\n",
    "\n",
    "Calculations may be executed in Python, but you need to set up your work (*what* it is you are calculating) in Markdown/MathJax."
   ]
  },
  {
   "cell_type": "markdown",
   "metadata": {},
   "source": [
    "Confidence inteverals of 95% for proportions can be found just as in the case for means. Because the estimator of interest is now a proportion instead of a mean, the variance for this estimator is based on the variance of a binomial distribution. This can be described by a normal distribution cenereted on the estimator $\\hat{p}$ with a variance of $\\frac{p(1-p)}{N}$. Simillarly to **Problem 1**, the population proportion $p$, can be estimated by the sample proportion $p$ because the true value is unknown. The confidence interval can be found from once again applying the Box-Muller transform to obtain the $z_\\alpha$ values. In this case, for the 95% confidence level, $\\alpha=0.005$. The confidence intervals can be expressed as $$CI= \\hat{p} \\pm z_\\alpha \\sqrt{\\frac{\\hat{p}(1-\\hat{p})}{N}}$$\n",
    "This is evalutated below as $13.6\\pm2.2$% for red wines and $21.6\\pm1.5$% for whites. Based on these results it is reasonable to prefer whites if you are buying wines at random. It is reasonable because the estimated proportion of wines which are high quality is outside the 95% confidence interval for proportion of reds."
   ]
  },
  {
   "cell_type": "code",
   "execution_count": 11,
   "metadata": {},
   "outputs": [
    {
     "name": "stdout",
     "output_type": "stream",
     "text": [
      "The 95% confidence interval for proportion of red wine above 7 quality is\n",
      "[13.6+-2.2]% or [11.4,15.8]%\n",
      "The 95% confidence interval for proportion of white wine above 7 quality is\n",
      "[21.6+-1.5]% or [20.1,23.2]%\n"
     ]
    }
   ],
   "source": [
    "za = stats.norm.ppf(1-0.005)\n",
    "\n",
    "nr = len(dfRed)\n",
    "pr = (dfRed['quality']>=7).sum()/nr\n",
    "\n",
    "nw = len(dfWhite)\n",
    "pw = (dfWhite['quality']>=7).sum()/nw\n",
    "\n",
    "print('The 95% confidence interval for proportion of red wine above 7 quality is\\n[{:.1f}+-{:.1f}]% or [{:.1f},{:.1f}]%'\n",
    "     .format(100*pr, 100*za*sqrt(pr*(1-pr)/nr), 100*(pr-za*sqrt(pr*(1-pr)/nr)), 100*(pr+za*sqrt(pr*(1-pr)/nr)) ))\n",
    "\n",
    "print('The 95% confidence interval for proportion of white wine above 7 quality is\\n[{:.1f}+-{:.1f}]% or [{:.1f},{:.1f}]%'\n",
    "     .format(100*pw, 100*za*sqrt(pw*(1-pw)/nw), 100*(pw-za*sqrt(pw*(1-pw)/nw)), 100*(pw+za*sqrt(pw*(1-pw)/nw)) ))"
   ]
  },
  {
   "cell_type": "markdown",
   "metadata": {},
   "source": [
    "**Part C:** Now, as college students (and teachers), we might not be super concerned with buying a really high quality bottle of wine.  Let's focus instead on making sure we do *not* buy a really disgusting bottle of wine.  Calculate and report estimates of $P(X \\geq 5 \\mid C=r)$ and $P(X \\geq 5 \\mid C=w)$.\n",
    "\n",
    "Obtain 95% confidence intervals for the proportion of red and white wines that are **at least** a 5 in quality, that is, $P(X \\geq 5 \\mid C)$.  Based on your results - and what you saw in Problem 1 - if you are interested in buying bottles of wine that are at least a 5 in quality, but are again buying wine totally randomly, can you conclude that you are better off buying one color over the other? Fully justify your answer."
   ]
  },
  {
   "cell_type": "code",
   "execution_count": 12,
   "metadata": {},
   "outputs": [
    {
     "name": "stdout",
     "output_type": "stream",
     "text": [
      "The 95% confidence interval for proportion of red wine above 5 quality is\n",
      "[96.1+-1.3]% or [94.8,97.3]%\n",
      "The 95% confidence interval for proportion of white wine above 5 quality is\n",
      "[96.3+-0.7]% or [95.6,97.0]%\n"
     ]
    }
   ],
   "source": [
    "za = stats.norm.ppf(1-0.005)\n",
    "\n",
    "nr = len(dfRed)\n",
    "pr = (dfRed['quality']>=5).sum()/nr\n",
    "\n",
    "nw = len(dfWhite)\n",
    "pw = (dfWhite['quality']>=5).sum()/nw\n",
    "\n",
    "print('The 95% confidence interval for proportion of red wine above 5 quality is\\n[{:.1f}+-{:.1f}]% or [{:.1f},{:.1f}]%'\n",
    "     .format(100*pr, 100*za*sqrt(pr*(1-pr)/nr), 100*(pr-za*sqrt(pr*(1-pr)/nr)), 100*(pr+za*sqrt(pr*(1-pr)/nr)) ))\n",
    "\n",
    "print('The 95% confidence interval for proportion of white wine above 5 quality is\\n[{:.1f}+-{:.1f}]% or [{:.1f},{:.1f}]%'\n",
    "     .format(100*pw, 100*za*sqrt(pw*(1-pw)/nw), 100*(pw-za*sqrt(pw*(1-pw)/nw)), 100*(pw+za*sqrt(pw*(1-pw)/nw)) ))"
   ]
  },
  {
   "cell_type": "markdown",
   "metadata": {},
   "source": [
    "When considering the proportion of wines above a 5 in quality, most reds and whites make the cut. The confidence intervals for these lower standards are calculated above and the results are that $96.1\\pm1.3$% of reds are not disgusting and $96.3\\pm0.7$% of whites are not disgusting. Based on these results it is reasonable to say that there is no statistical difference between proportions of wines which are above a quality level of 5 between reds and whites."
   ]
  },
  {
   "cell_type": "markdown",
   "metadata": {},
   "source": [
    "**Part D:** Compute a 95% confidence interval for the difference in proportions of red and white wines that are at least a 5 in quality. \n",
    "\n",
    "Now, based on your results for this part, can you conclude that you are better off buying one color over the other? Fully justify your answer. How does your work here differ from your work in **Part C**?"
   ]
  },
  {
   "cell_type": "code",
   "execution_count": 13,
   "metadata": {},
   "outputs": [
    {
     "name": "stdout",
     "output_type": "stream",
     "text": [
      "The 95% confidence interval for difference in proportion of wines above 5 quality is\n",
      "[-0.2+-1.4]% or [-1.6,1.2]%\n"
     ]
    }
   ],
   "source": [
    "s = sqrt(pr*(1-pr)/nr+pw*(1-pw)/nw)\n",
    "print('The 95% confidence interval for difference in proportion of wines above 5 quality is\\n[{:.1f}+-{:.1f}]% or [{:.1f},{:.1f}]%'\n",
    "     .format(100*(pr-pw), 100*za*s, 100*(pr-pw-za*s), 100*(pr-pw+za*s) ))"
   ]
  },
  {
   "cell_type": "markdown",
   "metadata": {},
   "source": [
    "Instead of computing separate confidence intervals, we can compute one interval for the difference in proportions among samples. For a difference in proportions, the confidence interval is described by \n",
    "$$CI = \\hat{p_1}-\\hat{p_2} \\pm z_\\alpha \\sqrt{\\frac{\\hat{p_1}(1-\\hat{p_1})}{N_1}+\\frac{\\hat{p_2}(1-\\hat{p_2})}{N_2}}$$\n",
    "This is found in the code above to be $-0.2\\pm1.4$%. This interval spans zero, so we cannot say that this difference is statistically significant at the 95%. We can, therefore not conclude that you are better off buying one color over the other. The work here differs from the work in **Part C** because the interval is computed based on the difference of proportions rather than computing an interval for each proportion. This is a more reasonable way to answer this question because it becomes reduced to whether or not zero is contained within this single interval."
   ]
  },
  {
   "cell_type": "markdown",
   "metadata": {},
   "source": [
    "**Part E:**  Now, we have many more observations of white wines than red. This certainly contributes to the width of the 95% confidence interval for the proportion of red wines that are at least a 5 in quality, which you should have found in **Part C** to be wider than the corresponding confidence interval for white wines. \n",
    "\n",
    "How large would our sample size of red wines need to be in order to guarantee that this 95% confidence interval width is at most 0.01? Note that we are hypothetically adding more samples, so we do not know the precise value of $\\hat{p}$."
   ]
  },
  {
   "cell_type": "code",
   "execution_count": 14,
   "metadata": {},
   "outputs": [
    {
     "name": "stdout",
     "output_type": "stream",
     "text": [
      "The minimum number of sample to ensure 95% confidence interval width is at most 0.01 = 16588\n"
     ]
    }
   ],
   "source": [
    "from math import ceil\n",
    "\n",
    "Nm = 0.25/(0.01/za)**2\n",
    "print('The minimum number of sample to ensure 95% confidence interval width is at most 0.01 = {}'.format(ceil(Nm)))"
   ]
  },
  {
   "cell_type": "markdown",
   "metadata": {},
   "source": [
    "The width of a confidence interval is equal to $z_\\alpha \\sqrt{\\frac{p(1-p)}{N}}$ where $p$ is the proportion, $N$ is the number of samples, and $z_\\alpha$ is the number of standard deviations included. To ensure that this width is at most 0.01, the number of samples must be increased. For this problem, again $p$ is unknown, but it would be irresponsible to assume our old estimators are still valid because more samples are being theorhetically added. Instead of using estimators, we will take p to be the worst case scenario of 0.5. The minimum sample of wines which ensures the width is at most 0.01 is $N_{min}$. It can be solved from $z_\\alpha \\sqrt{\\frac{p(1-p)}{N_{\\text{min}}}}\\le 0.01$. This is solved by the above code and the result is that at least 16588 samples are needed."
   ]
  },
  {
   "cell_type": "markdown",
   "metadata": {},
   "source": [
    "---\n",
    "\n",
    "<a id='p3'></a>\n",
    "[Back to top](#top)\n",
    "\n",
    "### [30 points] Problem 3 - Exploring Confidence Intervals \n",
    "\n",
    "The [Gumbel](https://en.wikipedia.org/wiki/Gumbel_distribution) distribution is one of several distributions frequently used to model environmental extremes (for example, extreme temperatures and sea levels).  It is also fairly asymmetric, and thus interesting for investigating confidence intervals.  It is implemented in scipy.stats as [gumbel_r](https://docs.scipy.org/doc/scipy/reference/generated/scipy.stats.gumbel_r.html), where the appendix \"\\_r\" denotes the right-skewed version of the Gumbel distribution (as opposed to the left-skewed)."
   ]
  },
  {
   "cell_type": "markdown",
   "metadata": {},
   "source": [
    "**Part A**: Complete the following code cell to plot a histogram of 100 realizations from the Gumbel distribution with parameters $\\mu=8$ and $\\beta=2$.  Be sure to leave this cell executed before turning in your assignment! Make your histogram grey with gold edges."
   ]
  },
  {
   "cell_type": "code",
   "execution_count": 24,
   "metadata": {},
   "outputs": [
    {
     "data": {
      "image/png": "[encoded data removed]",
      "text/plain": [
       "<Figure size 864x432 with 1 Axes>"
      ]
     },
     "metadata": {},
     "output_type": "display_data"
    }
   ],
   "source": [
    "from math import pi\n",
    "mu = 8\n",
    "beta = 2\n",
    "# this needs to be converted to be used with stats\n",
    "sig = pi*beta/sqrt(6)\n",
    "n_sample = 100\n",
    "# your code here\n",
    "samples = stats.gumbel_r.rvs(loc=mu,scale=beta,size=n_sample)\n",
    "fig,ax = plt.subplots(1,1,figsize=(12,6))\n",
    "plt.hist(samples,\n",
    "        bins = 20,\n",
    "        density = True,\n",
    "        color = 'gray',\n",
    "        edgecolor = 'xkcd:gold',\n",
    "        label='Gumbel Distribution')\n",
    "plt.grid(alpha=0.5)\n",
    "plt.title('Histogram of Gumbel Samples',fontsize=20)\n",
    "plt.xlabel('Value of Sample',fontsize=12)\n",
    "plt.ylabel('Frequency of Occurance',fontsize=12)\n",
    "ax.set_facecolor('xkcd:charcoal')"
   ]
  },
  {
   "cell_type": "markdown",
   "metadata": {},
   "source": [
    "**Part B:** Look up the analytical mean and variance of the Gumbel distribution with parameters $\\mu=8$ and $\\beta=2$ and calculate them here by hand.  Note that the Euler–Mascheroni constant can be accessed via `np.euler_gamma`. \n",
    "\n",
    "Use the empirical mean from your sample in **Part A**, and the true variance of the Gumbel distribution to compute by hand a 95% confidence interval for the mean."
   ]
  },
  {
   "cell_type": "markdown",
   "metadata": {},
   "source": [
    "The analytical mean of the Gumbel distribution is $\\mu + \\beta \\gamma$. The analytical variance is $\\frac{(\\pi \\beta)^2}{6}$. Via the code below, these values are calculated for $\\mu=8$ and $\\beta=2$ as 9.154 and 6.580, respectively.\n",
    "\n",
    "A confidence interval can be found from the empirical mean and analytical variance using the central limit theorem as $\\bar{X} \\pm z_\\alpha\\sqrt{\\dfrac{(\\pi \\beta)^2}{6N}}$, where $\\bar{X}$ is the sample mean and $N$ is the number of samples. This is also computed in the code below and the result is $[8.845,9.850]$."
   ]
  },
  {
   "cell_type": "code",
   "execution_count": 25,
   "metadata": {},
   "outputs": [
    {
     "name": "stdout",
     "output_type": "stream",
     "text": [
      "The analytical mean is 9.15443 and the analytical variance is 6.57974\n",
      "The Confidence Interval is [8.66642559 9.67192618]\n"
     ]
    }
   ],
   "source": [
    "mu = 8\n",
    "beta=2\n",
    "amean = mu+beta*np.euler_gamma\n",
    "avar  = (np.pi*beta)**2/6\n",
    "print(f'The analytical mean is {amean:.5f} and the analytical variance is {avar:.5f}')\n",
    "\n",
    "xbar = np.mean(samples)\n",
    "za = stats.norm.ppf(1-.05/2)\n",
    "pm = za*np.pi*beta/np.sqrt(6*n_sample)\n",
    "CI = np.array([xbar-pm, xbar+pm])\n",
    "print(f'The Confidence Interval is {CI}')"
   ]
  },
  {
   "cell_type": "markdown",
   "metadata": {},
   "source": [
    "**Part C:  A theoretical interlude.** When Stella O'Flaherty (the famous octopus) ran her solution code for **Part B**, she obtained a 95% confidence interval of $[8.81, 9.82]$ for the mean of the $Gum(\\mu=8, \\beta=2)$ distribution. For each of the following, explain why or why not the situation described is correct, given the technical definition of a 95% confidence interval we went over in class.\n",
    "\n",
    "**(i)** If you had no other evidence regarding true mean of the $Gum(\\mu=8, \\beta=2)$ distribution, you could say there is a 95% chance that its true mean falls between 8.81 and 9.82.\n",
    "\n",
    "**(ii)** If a class of 100 students all construct 95% confidence intervals for the mean of the $Gum(\\mu=8, \\beta=2)$ distribution, then we expect about 95 of their CIs to contain the true mean, and about 5 of them to miss the true mean.\n",
    "\n",
    "**(iii)** There is a 95% probability that any given random variable sampled from $Gum(\\mu=8, \\beta=2)$ will be between 8.81 and 9.82."
   ]
  },
  {
   "cell_type": "markdown",
   "metadata": {},
   "source": [
    "Both **(i)** and **(ii)** are true statements. **(ii)** is the definition of a confidence interval given in class. **(i)** can be shown to be an extension of **(ii)**. If you had no other evidence regarding the true mean of the $Gum(\\mu=8,\\beta=2)$ distribution, then Stella's interval is just as good as any other. From **(ii)**, we know that 95% of intervals will contain the true mean, and because there's nothing special about Stella's interval, we can say that there is a 95% chance that her interval contains the true mean. Statement **(iii)** is nonsense because the confidence interval describes the location of the mean, not any random variable from the distribution."
   ]
  },
  {
   "cell_type": "markdown",
   "metadata": {},
   "source": [
    "**Part D:** In this part you'll write a function to investigate the _coverage properties_ of a confidence interval for the mean of the Gumbel distribution. Complete the following function to randomly sample $m=500$ sample means with sample size $n=100$ for the Gumbel distribution with parameters $\\mu=8$ and $\\beta=2$.  For each random sample, compute the 66% confidence interval for the mean. Note that you actually know that the variance for the true population distribution is, $\\sigma^2$.  Your function should do two things: \n",
    "\n",
    "1. Report the proportion of confidence intervals that successfully cover the true mean of the distribution \n",
    "2. Make a plot of 50 randomly selected confidence intervals. Overlay the intervals on the line $y=\\textrm{True mean}$ (from **Part B**). Color confidence intervals black if they cover the true mean, and red if they don't.  \n",
    "\n",
    "Be sure to leave this cell executed before turning in your assignment!"
   ]
  },
  {
   "cell_type": "code",
   "execution_count": 17,
   "metadata": {
    "scrolled": false
   },
   "outputs": [
    {
     "name": "stdout",
     "output_type": "stream",
     "text": [
      "proportion covering mean: 0.659\n"
     ]
    }
   ],
   "source": [
    "def confidence_intervals(m=500, n=100):\n",
    "    mu = 8\n",
    "    beta = 2\n",
    "    amean = mu+beta*np.euler_gamma\n",
    "    level = 0.66\n",
    "    \n",
    "    samples = stats.gumbel_r.rvs(loc=mu,scale=beta,size=(m,n))\n",
    "    means = np.mean(samples,axis=1)\n",
    "    za = stats.norm.ppf(1/2+level/2)\n",
    "    pm = za*np.pi*beta/np.sqrt(6*n)\n",
    "    \n",
    "    lowers = means-pm\n",
    "    uppers = means+pm\n",
    "    coverage = np.logical_and(lowers<amean,uppers>amean)\n",
    "    proportion_CIs_covering_mean = coverage.sum()/m\n",
    "    \n",
    "    print(\"proportion covering mean: {:.3f}\".format(proportion_CIs_covering_mean))\n",
    "    \n",
    "    \n",
    "confidence_intervals(m=500000,n=100)"
   ]
  },
  {
   "cell_type": "markdown",
   "metadata": {},
   "source": [
    "**Part E:** Does the proportion of confidence intervals that cover the true mean of the distribution agree with the theory described in class?  Justify your conclusion. "
   ]
  },
  {
   "cell_type": "markdown",
   "metadata": {},
   "source": [
    "Yes, the proportion of confidence intervals agrees with the theory. The theory is that the proportion agrees with the confidence level. These values all agree."
   ]
  },
  {
   "cell_type": "markdown",
   "metadata": {
    "collapsed": true
   },
   "source": [
    "---\n",
    "\n",
    "<a id='p4'></a>\n",
    "[Back to top](#top)\n",
    "\n",
    "### [15 points] Problem 4 - Freethrows\n",
    "***\n",
    "\n",
    "Keep your skills sharp by answering these straightforward questions."
   ]
  },
  {
   "cell_type": "markdown",
   "metadata": {},
   "source": [
    "**Part A**: <font color='green'>You are driving through the paint toward the basket when Steph Curry fouls you. You step to the line to sink this freethrow shot, which is delivered in the form of a CSCI3022 problem:</font>\n",
    "\n",
    "You have a shuffled deck of cards. It includes the usual 52 cards AND three special additional Octopus cards. You flip over the cards one by one, without replacing them in the deck. You count how many cards you'll have to flip until you flip over the second Octopus.  You repeat this many times. Simulate this process. Plot a histogram with binsize=1 of the outcomes, in lightgrey with white outline. Compute the mean, median, and mode for this dataset, indicate them on the plot too, using linstyles of green dashed, pink dotted, and black solid, respectively. Look up how to do a legend in MatPlotLib, and label your histogram, mean, median.\n",
    "***"
   ]
  },
  {
   "cell_type": "code",
   "execution_count": 18,
   "metadata": {},
   "outputs": [
    {
     "data": {
      "image/png": "[encoded data removed]",
      "text/plain": [
       "<Figure size 864x432 with 1 Axes>"
      ]
     },
     "metadata": {},
     "output_type": "display_data"
    }
   ],
   "source": [
    "deck = np.arange(0,55) #let the octopus cards be the last three cards\n",
    "# Define N as number of simulations\n",
    "N = 10000\n",
    "#Pick those cards with a random.choice N times\n",
    "cards = np.array([np.random.choice(deck,size=55,replace=False) for i in range(N)])\n",
    "# Make this boolean for which cards are octopus\n",
    "octopus = cards>51\n",
    "# Make this array for ordering the octopus cards\n",
    "accumulated = octopus.cumsum(axis=1)\n",
    "# Make this list to find where the second octopus is in each simulation\n",
    "second_oct = np.argmax(accumulated>1,axis=1)\n",
    "\n",
    "# Do a plotting thing\n",
    "fig,ax = plt.subplots(1,1,figsize=(12,6))\n",
    "plt.hist(second_oct,\n",
    "        bins=np.arange(1,55),\n",
    "        density=True,\n",
    "        color='lightgray',\n",
    "        edgecolor='white',\n",
    "        label='Histogram of second octopus position')\n",
    "x,x,ymin,ymax = plt.axis('tight')\n",
    "\n",
    "plt.plot(np.mean(second_oct)*np.array([1,1]),[ymin,ymax],'g--',\n",
    "        linewidth=4,\n",
    "        label='Mean number of cards')\n",
    "plt.plot(np.median(second_oct)*np.array([1,1]),[ymin,ymax],':',\n",
    "        color='xkcd:pink',\n",
    "        linewidth=6,\n",
    "        alpha = 0.8,\n",
    "        label='Median number of cards')\n",
    "#Find the mode with bincount\n",
    "mode = (np.bincount(second_oct).argmax()+0.5)\n",
    "plt.plot(mode*np.array([1,1]),[ymin,ymax],'k-',\n",
    "        label='Mode number of cards')\n",
    "plt.xlabel('Number of cards flipped over before second octopus',fontsize=12)\n",
    "plt.ylabel('Probability of outcome',fontsize=12)\n",
    "plt.title(f'Histogram of {N} Simulations')\n",
    "plt.legend();\n"
   ]
  },
  {
   "cell_type": "markdown",
   "metadata": {},
   "source": [
    "**Part B**: <font color='green'>You sink your first free throw and immediately get dap from your teammates, Oscar O'Flaherty and Octavia O'Flaherty. You prepare to take another shot, which—and you're not going to believe this—is another CSCI3022 problem:</font>\n",
    "\n",
    "In general, which is wider: a 95% confidence interval or a 99% confidence interval? How would you explain this to your younger sibling, who is not a statistician?\n",
    "***"
   ]
  },
  {
   "cell_type": "markdown",
   "metadata": {},
   "source": [
    "A 99% confidence interval is wider. \n",
    "\n",
    "It is wider because we want to be more sure we are correct. In order to be more sure we have to consider a wider range of answers.\n",
    "\n",
    "Okay, let me try again. We want to be right. We will be more right if we are less specific. More often I mean. This is why the 99% confidence interval is wider."
   ]
  },
  {
   "cell_type": "markdown",
   "metadata": {},
   "source": [
    "**Part C**: <font color='green'>The crowd is silent. Everything is slow motion. You're literally in the air, releasing what looks to be a perfect shot to tie the match. As you release the ball, a hand appears to block it. It is Kevin Durant. :( \n",
    "\n",
    "Luckily, his fingertips also brush against your arm. That's a foul, and everyone saw it. Back to the line. Back to CSCI3022:</font>\n",
    "\n",
    "Let $X$ be a normally-distributed random variable. You draw from it and get these values, stored in the numpy array **durant**, below. Compute a 95% confidence interval for the _standard deviation_.\n",
    "***"
   ]
  },
  {
   "cell_type": "code",
   "execution_count": 19,
   "metadata": {},
   "outputs": [],
   "source": [
    "durant = np.array([3.7778,3.9459,3.8248,4.1111,4.0180,4.0898,4.0380,3.9273,3.9614,3.8387])"
   ]
  },
  {
   "cell_type": "code",
   "execution_count": 22,
   "metadata": {},
   "outputs": [
    {
     "name": "stdout",
     "output_type": "stream",
     "text": [
      "The confidence interval is [0.07412531 0.19673887]\n"
     ]
    }
   ],
   "source": [
    "# #Let's bootstrap this thing Actually no, it doesn't work?????????\n",
    "# #Do N of 10,000\n",
    "# N = 100000\n",
    "# level = 0.95\n",
    "# #Make those straps\n",
    "# boots = np.random.choice( durant,size=(N,len(durant)) )\n",
    "# all_std = np.std(boots,axis=1)\n",
    "# lower = np.percentile(all_std,100*(1/2-level/2),axis=0)\n",
    "# upper = np.percentile(all_std,100*(1/2+level/2),axis=0)\n",
    "# CI = np.array([lower, upper])\n",
    "# print(f'The confidence interval is {CI}')\n",
    "# print(np.diff(CI))\n",
    "# print(np.std(durant)) \n",
    "\n",
    "level = 0.95\n",
    "xm = stats.chi2.ppf(1/2+level/2,df=len(durant)-1)\n",
    "xp = stats.chi2.ppf(1/2-level/2,df=len(durant)-1)\n",
    "s = np.std(durant)\n",
    "m = np.sqrt((len(durant)-1)*s**2/xm)\n",
    "p = np.sqrt((len(durant)-1)*s**2/xp)\n",
    "CI = np.array([m,p])\n",
    "print(f'The confidence interval is {CI}')"
   ]
  },
  {
   "cell_type": "markdown",
   "metadata": {},
   "source": [
    "**Part D**: <font color='green'>\"Draymond Green has it all, in spite of living in the Bay Area,\" you think to yourself. \"But he doesn't have this shot...\" You're all over him, and he's going to have to pass. You can see the irritation in his eyes. Then you realize that it's not irritation, and he's not being distracted by your superb defense. He's being distracted by this CSCI3022 problem:</font>\n",
    "\n",
    "If you're doing quality control for the average strength of carbon fiber that will be used in airplane construction, and your alternative hypothesis is that the strength of the carbon is below tolerance, and therefore unsafe, would you rather have a low Type I error rate or a low Type II error rate? Explain.\n",
    "\n",
    "***"
   ]
  },
  {
   "cell_type": "markdown",
   "metadata": {},
   "source": [
    "In the case of quality control for the strength of the carbon fiber, a Type II error is more dangerous because it represents the event where the null hypothesis is not rejected but is in fact false. With relation to this problem, a Type II error represents the event that the carbon fiber is deemed strong enough but is not actually strong enough. Your plane is going to fall apart in this event (or at least have a reduced lifespan.) For this reason it is more important to have a lower Type II error rate."
   ]
  },
  {
   "cell_type": "markdown",
   "metadata": {},
   "source": [
    "**Part E**: <font color='green'>You are watching tape footage at halftime with your personal trainer, Stella O'Flaherty. You gotta focus up if you're going to match Klay Thompson's speed in the second half. You take a sip of Gatorade and Dr. O'Flaherty suggests that you do the following CSCI3022 problem:</font>\n",
    "\n",
    "You measure 53 suckers from baby reef octopuses and find that they are, on average, 45.2 mm wide, with a standard devaition of 30.4mm. \n",
    "\n",
    "Then you measure 41 suckers from from baby dumbo octopuses and find that they are, on average, 52.8 mm wide, with a standard deviation of 22.8 mm. \n",
    "\n",
    "Is there statistical evidence at the 0.05 significance level that the true mean of baby dumbo octopus sucker width exceeds the true mean of baby reef octopus sucker width by more than 6 mm?  Use a test of your choice.\n",
    "\n",
    "***"
   ]
  },
  {
   "cell_type": "code",
   "execution_count": 21,
   "metadata": {},
   "outputs": [
    {
     "name": "stdout",
     "output_type": "stream",
     "text": [
      "CI for difference of means is [-3.57994294 18.77994294]\n"
     ]
    }
   ],
   "source": [
    "xb1 = 52.8; s1 = 22.8; N1=52\n",
    "xb2 = 45.2; s2 = 30.4; N2=41\n",
    "\n",
    "alpha = 0.05\n",
    "mid = xb1-xb2\n",
    "za = stats.norm.ppf(1-alpha/2)\n",
    "pm = za*np.sqrt(s1**2/N1+s2**2/N2)\n",
    "\n",
    "CI = np.array([mid-pm,mid+pm])\n",
    "\n",
    "print(f'CI for difference of means is {CI}')"
   ]
  },
  {
   "cell_type": "markdown",
   "metadata": {},
   "source": [
    "The test performed here will be a confidence interval for the difference of means. The confidence interval for this test is represented by the following expression\n",
    "$$\\mu_1-\\mu_2 \\approx \\bar{X}_1-\\bar{X}_2 \\pm z_\\alpha \\sqrt{\\frac{S_1^2}{N_1}+\\frac{S_2^2}{N_2}}$$\n",
    "This is computed by the code above. Because the confidence interval includes 0, the difference in mean sucker size is not significantly significant at the 95% confidence level."
   ]
  }
 ],
 "metadata": {
  "kernelspec": {
   "display_name": "Python 3",
   "language": "python",
   "name": "python3"
  },
  "language_info": {
   "codemirror_mode": {
    "name": "ipython",
    "version": 3
   },
   "file_extension": ".py",
   "mimetype": "text/x-python",
   "name": "python",
   "nbconvert_exporter": "python",
   "pygments_lexer": "ipython3",
   "version": "3.6.5"
  }
 },
 "nbformat": 4,
 "nbformat_minor": 2
}
